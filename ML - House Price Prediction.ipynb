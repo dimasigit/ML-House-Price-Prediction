{
 "cells": [
  {
   "cell_type": "markdown",
   "id": "25e6f088",
   "metadata": {},
   "source": [
    "# ROAD MAP :"
   ]
  },
  {
   "cell_type": "markdown",
   "id": "ca657a79",
   "metadata": {},
   "source": [
    "# 1.Data Understanding"
   ]
  },
  {
   "cell_type": "markdown",
   "id": "5a48e406",
   "metadata": {},
   "source": [
    "Perusahaan properti online menawarkan penilaian rumah menggunakan ML. Tujuan adalah untuk memprediksi penjualan rumah di King County, Washington State, USA menggunakan Multiple Linear Regression (MLR). Dataset terdiri dari data historis rumah yang terjual antara Mei 2014 hingga Mei 2015. Saya akan memprediksi penjualan rumah di King County dengan akurasi setidaknya 75-80% dan memahami faktor mana yang bertanggung jawab atas nilai properti yang lebih tinggi - $650K ke atas.\n",
    "Posisi saya sebagai konsultan yang berbicara ke stakeholders ?"
   ]
  },
  {
   "cell_type": "markdown",
   "id": "5f84f980",
   "metadata": {},
   "source": [
    "# 2. Data Preparation"
   ]
  },
  {
   "cell_type": "markdown",
   "id": "ded9743b",
   "metadata": {},
   "source": [
    "### a. Import package yg digunakan"
   ]
  },
  {
   "cell_type": "code",
   "execution_count": 1,
   "id": "91d5f9ed",
   "metadata": {},
   "outputs": [],
   "source": [
    "import warnings\n",
    "import pandas as pd\n",
    "import numpy as np\n",
    "warnings.filterwarnings('ignore')\n",
    "import matplotlib.pyplot as plt\n",
    "import seaborn as sns\n",
    "%matplotlib inline"
   ]
  },
  {
   "cell_type": "markdown",
   "id": "27cb6b2f",
   "metadata": {},
   "source": [
    "### b. Read Dataset yg digunakan \n"
   ]
  },
  {
   "cell_type": "code",
   "execution_count": 2,
   "id": "6829ad2c",
   "metadata": {
    "scrolled": true
   },
   "outputs": [
    {
     "data": {
      "text/html": [
       "<div>\n",
       "<style scoped>\n",
       "    .dataframe tbody tr th:only-of-type {\n",
       "        vertical-align: middle;\n",
       "    }\n",
       "\n",
       "    .dataframe tbody tr th {\n",
       "        vertical-align: top;\n",
       "    }\n",
       "\n",
       "    .dataframe thead th {\n",
       "        text-align: right;\n",
       "    }\n",
       "</style>\n",
       "<table border=\"1\" class=\"dataframe\">\n",
       "  <thead>\n",
       "    <tr style=\"text-align: right;\">\n",
       "      <th></th>\n",
       "      <th>id</th>\n",
       "      <th>date</th>\n",
       "      <th>price</th>\n",
       "      <th>bedrooms</th>\n",
       "      <th>bathrooms</th>\n",
       "      <th>sqft_living</th>\n",
       "      <th>sqft_lot</th>\n",
       "      <th>floors</th>\n",
       "      <th>waterfront</th>\n",
       "      <th>view</th>\n",
       "      <th>...</th>\n",
       "      <th>grade</th>\n",
       "      <th>sqft_above</th>\n",
       "      <th>sqft_basement</th>\n",
       "      <th>yr_built</th>\n",
       "      <th>yr_renovated</th>\n",
       "      <th>zipcode</th>\n",
       "      <th>lat</th>\n",
       "      <th>long</th>\n",
       "      <th>sqft_living15</th>\n",
       "      <th>sqft_lot15</th>\n",
       "    </tr>\n",
       "  </thead>\n",
       "  <tbody>\n",
       "    <tr>\n",
       "      <th>0</th>\n",
       "      <td>7129300520</td>\n",
       "      <td>20141013T000000</td>\n",
       "      <td>221900.0</td>\n",
       "      <td>3</td>\n",
       "      <td>1.00</td>\n",
       "      <td>1180</td>\n",
       "      <td>5650</td>\n",
       "      <td>1.0</td>\n",
       "      <td>0</td>\n",
       "      <td>0</td>\n",
       "      <td>...</td>\n",
       "      <td>7</td>\n",
       "      <td>1180.0</td>\n",
       "      <td>0</td>\n",
       "      <td>1955</td>\n",
       "      <td>0</td>\n",
       "      <td>98178</td>\n",
       "      <td>47.5112</td>\n",
       "      <td>-122.257</td>\n",
       "      <td>1340</td>\n",
       "      <td>5650</td>\n",
       "    </tr>\n",
       "    <tr>\n",
       "      <th>1</th>\n",
       "      <td>6414100192</td>\n",
       "      <td>20141209T000000</td>\n",
       "      <td>538000.0</td>\n",
       "      <td>3</td>\n",
       "      <td>2.25</td>\n",
       "      <td>2570</td>\n",
       "      <td>7242</td>\n",
       "      <td>2.0</td>\n",
       "      <td>0</td>\n",
       "      <td>0</td>\n",
       "      <td>...</td>\n",
       "      <td>7</td>\n",
       "      <td>2170.0</td>\n",
       "      <td>400</td>\n",
       "      <td>1951</td>\n",
       "      <td>1991</td>\n",
       "      <td>98125</td>\n",
       "      <td>47.7210</td>\n",
       "      <td>-122.319</td>\n",
       "      <td>1690</td>\n",
       "      <td>7639</td>\n",
       "    </tr>\n",
       "    <tr>\n",
       "      <th>2</th>\n",
       "      <td>5631500400</td>\n",
       "      <td>20150225T000000</td>\n",
       "      <td>180000.0</td>\n",
       "      <td>2</td>\n",
       "      <td>1.00</td>\n",
       "      <td>770</td>\n",
       "      <td>10000</td>\n",
       "      <td>1.0</td>\n",
       "      <td>0</td>\n",
       "      <td>0</td>\n",
       "      <td>...</td>\n",
       "      <td>6</td>\n",
       "      <td>770.0</td>\n",
       "      <td>0</td>\n",
       "      <td>1933</td>\n",
       "      <td>0</td>\n",
       "      <td>98028</td>\n",
       "      <td>47.7379</td>\n",
       "      <td>-122.233</td>\n",
       "      <td>2720</td>\n",
       "      <td>8062</td>\n",
       "    </tr>\n",
       "    <tr>\n",
       "      <th>3</th>\n",
       "      <td>2487200875</td>\n",
       "      <td>20141209T000000</td>\n",
       "      <td>604000.0</td>\n",
       "      <td>4</td>\n",
       "      <td>3.00</td>\n",
       "      <td>1960</td>\n",
       "      <td>5000</td>\n",
       "      <td>1.0</td>\n",
       "      <td>0</td>\n",
       "      <td>0</td>\n",
       "      <td>...</td>\n",
       "      <td>7</td>\n",
       "      <td>1050.0</td>\n",
       "      <td>910</td>\n",
       "      <td>1965</td>\n",
       "      <td>0</td>\n",
       "      <td>98136</td>\n",
       "      <td>47.5208</td>\n",
       "      <td>-122.393</td>\n",
       "      <td>1360</td>\n",
       "      <td>5000</td>\n",
       "    </tr>\n",
       "    <tr>\n",
       "      <th>4</th>\n",
       "      <td>1954400510</td>\n",
       "      <td>20150218T000000</td>\n",
       "      <td>510000.0</td>\n",
       "      <td>3</td>\n",
       "      <td>2.00</td>\n",
       "      <td>1680</td>\n",
       "      <td>8080</td>\n",
       "      <td>1.0</td>\n",
       "      <td>0</td>\n",
       "      <td>0</td>\n",
       "      <td>...</td>\n",
       "      <td>8</td>\n",
       "      <td>1680.0</td>\n",
       "      <td>0</td>\n",
       "      <td>1987</td>\n",
       "      <td>0</td>\n",
       "      <td>98074</td>\n",
       "      <td>47.6168</td>\n",
       "      <td>-122.045</td>\n",
       "      <td>1800</td>\n",
       "      <td>7503</td>\n",
       "    </tr>\n",
       "  </tbody>\n",
       "</table>\n",
       "<p>5 rows × 21 columns</p>\n",
       "</div>"
      ],
      "text/plain": [
       "           id             date     price  bedrooms  bathrooms  sqft_living  \\\n",
       "0  7129300520  20141013T000000  221900.0         3       1.00         1180   \n",
       "1  6414100192  20141209T000000  538000.0         3       2.25         2570   \n",
       "2  5631500400  20150225T000000  180000.0         2       1.00          770   \n",
       "3  2487200875  20141209T000000  604000.0         4       3.00         1960   \n",
       "4  1954400510  20150218T000000  510000.0         3       2.00         1680   \n",
       "\n",
       "   sqft_lot  floors  waterfront  view  ...  grade  sqft_above  sqft_basement  \\\n",
       "0      5650     1.0           0     0  ...      7      1180.0              0   \n",
       "1      7242     2.0           0     0  ...      7      2170.0            400   \n",
       "2     10000     1.0           0     0  ...      6       770.0              0   \n",
       "3      5000     1.0           0     0  ...      7      1050.0            910   \n",
       "4      8080     1.0           0     0  ...      8      1680.0              0   \n",
       "\n",
       "   yr_built  yr_renovated  zipcode      lat     long  sqft_living15  \\\n",
       "0      1955             0    98178  47.5112 -122.257           1340   \n",
       "1      1951          1991    98125  47.7210 -122.319           1690   \n",
       "2      1933             0    98028  47.7379 -122.233           2720   \n",
       "3      1965             0    98136  47.5208 -122.393           1360   \n",
       "4      1987             0    98074  47.6168 -122.045           1800   \n",
       "\n",
       "   sqft_lot15  \n",
       "0        5650  \n",
       "1        7639  \n",
       "2        8062  \n",
       "3        5000  \n",
       "4        7503  \n",
       "\n",
       "[5 rows x 21 columns]"
      ]
     },
     "execution_count": 2,
     "metadata": {},
     "output_type": "execute_result"
    }
   ],
   "source": [
    "df = pd.read_csv('kc_house_data.csv')\n",
    "df.head()"
   ]
  },
  {
   "cell_type": "markdown",
   "id": "6204f93d",
   "metadata": {},
   "source": [
    "# 3. Data Wrangling"
   ]
  },
  {
   "cell_type": "markdown",
   "id": "36ccd8cc",
   "metadata": {},
   "source": [
    "### a. Info dataset (nama kolom, jumlah kolom dan baris, dan tipenya)"
   ]
  },
  {
   "cell_type": "code",
   "execution_count": 3,
   "id": "d4e26586",
   "metadata": {},
   "outputs": [
    {
     "name": "stdout",
     "output_type": "stream",
     "text": [
      "<class 'pandas.core.frame.DataFrame'>\n",
      "RangeIndex: 21613 entries, 0 to 21612\n",
      "Data columns (total 21 columns):\n",
      " #   Column         Non-Null Count  Dtype  \n",
      "---  ------         --------------  -----  \n",
      " 0   id             21613 non-null  int64  \n",
      " 1   date           21613 non-null  object \n",
      " 2   price          21613 non-null  float64\n",
      " 3   bedrooms       21613 non-null  int64  \n",
      " 4   bathrooms      21613 non-null  float64\n",
      " 5   sqft_living    21613 non-null  int64  \n",
      " 6   sqft_lot       21613 non-null  int64  \n",
      " 7   floors         21613 non-null  float64\n",
      " 8   waterfront     21613 non-null  int64  \n",
      " 9   view           21613 non-null  int64  \n",
      " 10  condition      21613 non-null  int64  \n",
      " 11  grade          21613 non-null  int64  \n",
      " 12  sqft_above     21611 non-null  float64\n",
      " 13  sqft_basement  21613 non-null  int64  \n",
      " 14  yr_built       21613 non-null  int64  \n",
      " 15  yr_renovated   21613 non-null  int64  \n",
      " 16  zipcode        21613 non-null  int64  \n",
      " 17  lat            21613 non-null  float64\n",
      " 18  long           21613 non-null  float64\n",
      " 19  sqft_living15  21613 non-null  int64  \n",
      " 20  sqft_lot15     21613 non-null  int64  \n",
      "dtypes: float64(6), int64(14), object(1)\n",
      "memory usage: 3.5+ MB\n"
     ]
    }
   ],
   "source": [
    "df.info()"
   ]
  },
  {
   "cell_type": "markdown",
   "id": "68b73850",
   "metadata": {},
   "source": [
    "Data terdiri dari 21 kolom dan 21613 baris, yang terdiri atas :\n",
    "- id -> ID tiap ruamah yg terjual\n",
    "- date -> Tangal penjualan\n",
    "- price -> Harga tiap rumah\n",
    "- bedrooms -> Jumlah kamar\n",
    "- bathrooms -> NJumlah tiap kamar mandi, 0.5 artinya kamar dengan toilet tapi tidak ada shower\n",
    "- sqft_living -> Square footage atau luas bangunan\n",
    "- sqft_lot -> Luas lahan\n",
    "- floors -> Jumlah lantai\n",
    "- waterfront -> Rumah menghadap laut atau tidak (dummy variable)\n",
    "- view -> Index dari 0 - 4 seberapa bagus viewnya\n",
    "- condition -> Index kondisi bangunan skala 0 - 5\n",
    "- grade -> Index konstruksi dan desain dari 1 - 13, dimana 1-3 kurang, 7 rata-rata, dan 11-13 berkualitas tinggi\n",
    "- sqft_above -> Luas bangunan di atas tanah\n",
    "- sqft_basement -> Di bawah tanah\n",
    "- yr_built -> Tahun pembuatan\n",
    "- yr_renovated -> Tahun renovasi\n",
    "- zipcode -> Kode pos\n",
    "- lat -> Lattitude(garis lintang)\n",
    "- long -> Longitude(garis bujur)\n",
    "- sqft_living15 -> Luas ruang tamu\n",
    "- sqft_lot15 -> "
   ]
  },
  {
   "cell_type": "markdown",
   "id": "a1fbd589",
   "metadata": {},
   "source": [
    "### b. Cek tipe data"
   ]
  },
  {
   "cell_type": "code",
   "execution_count": 4,
   "id": "569f6f2f",
   "metadata": {},
   "outputs": [
    {
     "data": {
      "text/plain": [
       "id                 int64\n",
       "date              object\n",
       "price            float64\n",
       "bedrooms           int64\n",
       "bathrooms        float64\n",
       "sqft_living        int64\n",
       "sqft_lot           int64\n",
       "floors           float64\n",
       "waterfront         int64\n",
       "view               int64\n",
       "condition          int64\n",
       "grade              int64\n",
       "sqft_above       float64\n",
       "sqft_basement      int64\n",
       "yr_built           int64\n",
       "yr_renovated       int64\n",
       "zipcode            int64\n",
       "lat              float64\n",
       "long             float64\n",
       "sqft_living15      int64\n",
       "sqft_lot15         int64\n",
       "dtype: object"
      ]
     },
     "execution_count": 4,
     "metadata": {},
     "output_type": "execute_result"
    }
   ],
   "source": [
    "df.dtypes"
   ]
  },
  {
   "cell_type": "code",
   "execution_count": 5,
   "id": "21739048",
   "metadata": {},
   "outputs": [],
   "source": [
    "df['date'] = pd.to_datetime(df['date'])"
   ]
  },
  {
   "cell_type": "code",
   "execution_count": 6,
   "id": "8115f740",
   "metadata": {},
   "outputs": [
    {
     "data": {
      "text/html": [
       "<div>\n",
       "<style scoped>\n",
       "    .dataframe tbody tr th:only-of-type {\n",
       "        vertical-align: middle;\n",
       "    }\n",
       "\n",
       "    .dataframe tbody tr th {\n",
       "        vertical-align: top;\n",
       "    }\n",
       "\n",
       "    .dataframe thead th {\n",
       "        text-align: right;\n",
       "    }\n",
       "</style>\n",
       "<table border=\"1\" class=\"dataframe\">\n",
       "  <thead>\n",
       "    <tr style=\"text-align: right;\">\n",
       "      <th></th>\n",
       "      <th>id</th>\n",
       "      <th>date</th>\n",
       "      <th>price</th>\n",
       "      <th>bedrooms</th>\n",
       "      <th>bathrooms</th>\n",
       "      <th>sqft_living</th>\n",
       "      <th>sqft_lot</th>\n",
       "      <th>floors</th>\n",
       "      <th>waterfront</th>\n",
       "      <th>view</th>\n",
       "      <th>...</th>\n",
       "      <th>yr_built</th>\n",
       "      <th>yr_renovated</th>\n",
       "      <th>zipcode</th>\n",
       "      <th>lat</th>\n",
       "      <th>long</th>\n",
       "      <th>sqft_living15</th>\n",
       "      <th>sqft_lot15</th>\n",
       "      <th>yearsold</th>\n",
       "      <th>monthsold</th>\n",
       "      <th>daysold</th>\n",
       "    </tr>\n",
       "  </thead>\n",
       "  <tbody>\n",
       "    <tr>\n",
       "      <th>0</th>\n",
       "      <td>7129300520</td>\n",
       "      <td>2014-10-13</td>\n",
       "      <td>221900.0</td>\n",
       "      <td>3</td>\n",
       "      <td>1.00</td>\n",
       "      <td>1180</td>\n",
       "      <td>5650</td>\n",
       "      <td>1.0</td>\n",
       "      <td>0</td>\n",
       "      <td>0</td>\n",
       "      <td>...</td>\n",
       "      <td>1955</td>\n",
       "      <td>0</td>\n",
       "      <td>98178</td>\n",
       "      <td>47.5112</td>\n",
       "      <td>-122.257</td>\n",
       "      <td>1340</td>\n",
       "      <td>5650</td>\n",
       "      <td>2014</td>\n",
       "      <td>10</td>\n",
       "      <td>13</td>\n",
       "    </tr>\n",
       "    <tr>\n",
       "      <th>1</th>\n",
       "      <td>6414100192</td>\n",
       "      <td>2014-12-09</td>\n",
       "      <td>538000.0</td>\n",
       "      <td>3</td>\n",
       "      <td>2.25</td>\n",
       "      <td>2570</td>\n",
       "      <td>7242</td>\n",
       "      <td>2.0</td>\n",
       "      <td>0</td>\n",
       "      <td>0</td>\n",
       "      <td>...</td>\n",
       "      <td>1951</td>\n",
       "      <td>1991</td>\n",
       "      <td>98125</td>\n",
       "      <td>47.7210</td>\n",
       "      <td>-122.319</td>\n",
       "      <td>1690</td>\n",
       "      <td>7639</td>\n",
       "      <td>2014</td>\n",
       "      <td>12</td>\n",
       "      <td>9</td>\n",
       "    </tr>\n",
       "    <tr>\n",
       "      <th>2</th>\n",
       "      <td>5631500400</td>\n",
       "      <td>2015-02-25</td>\n",
       "      <td>180000.0</td>\n",
       "      <td>2</td>\n",
       "      <td>1.00</td>\n",
       "      <td>770</td>\n",
       "      <td>10000</td>\n",
       "      <td>1.0</td>\n",
       "      <td>0</td>\n",
       "      <td>0</td>\n",
       "      <td>...</td>\n",
       "      <td>1933</td>\n",
       "      <td>0</td>\n",
       "      <td>98028</td>\n",
       "      <td>47.7379</td>\n",
       "      <td>-122.233</td>\n",
       "      <td>2720</td>\n",
       "      <td>8062</td>\n",
       "      <td>2015</td>\n",
       "      <td>2</td>\n",
       "      <td>25</td>\n",
       "    </tr>\n",
       "    <tr>\n",
       "      <th>3</th>\n",
       "      <td>2487200875</td>\n",
       "      <td>2014-12-09</td>\n",
       "      <td>604000.0</td>\n",
       "      <td>4</td>\n",
       "      <td>3.00</td>\n",
       "      <td>1960</td>\n",
       "      <td>5000</td>\n",
       "      <td>1.0</td>\n",
       "      <td>0</td>\n",
       "      <td>0</td>\n",
       "      <td>...</td>\n",
       "      <td>1965</td>\n",
       "      <td>0</td>\n",
       "      <td>98136</td>\n",
       "      <td>47.5208</td>\n",
       "      <td>-122.393</td>\n",
       "      <td>1360</td>\n",
       "      <td>5000</td>\n",
       "      <td>2014</td>\n",
       "      <td>12</td>\n",
       "      <td>9</td>\n",
       "    </tr>\n",
       "    <tr>\n",
       "      <th>4</th>\n",
       "      <td>1954400510</td>\n",
       "      <td>2015-02-18</td>\n",
       "      <td>510000.0</td>\n",
       "      <td>3</td>\n",
       "      <td>2.00</td>\n",
       "      <td>1680</td>\n",
       "      <td>8080</td>\n",
       "      <td>1.0</td>\n",
       "      <td>0</td>\n",
       "      <td>0</td>\n",
       "      <td>...</td>\n",
       "      <td>1987</td>\n",
       "      <td>0</td>\n",
       "      <td>98074</td>\n",
       "      <td>47.6168</td>\n",
       "      <td>-122.045</td>\n",
       "      <td>1800</td>\n",
       "      <td>7503</td>\n",
       "      <td>2015</td>\n",
       "      <td>2</td>\n",
       "      <td>18</td>\n",
       "    </tr>\n",
       "  </tbody>\n",
       "</table>\n",
       "<p>5 rows × 24 columns</p>\n",
       "</div>"
      ],
      "text/plain": [
       "           id       date     price  bedrooms  bathrooms  sqft_living  \\\n",
       "0  7129300520 2014-10-13  221900.0         3       1.00         1180   \n",
       "1  6414100192 2014-12-09  538000.0         3       2.25         2570   \n",
       "2  5631500400 2015-02-25  180000.0         2       1.00          770   \n",
       "3  2487200875 2014-12-09  604000.0         4       3.00         1960   \n",
       "4  1954400510 2015-02-18  510000.0         3       2.00         1680   \n",
       "\n",
       "   sqft_lot  floors  waterfront  view  ...  yr_built  yr_renovated  zipcode  \\\n",
       "0      5650     1.0           0     0  ...      1955             0    98178   \n",
       "1      7242     2.0           0     0  ...      1951          1991    98125   \n",
       "2     10000     1.0           0     0  ...      1933             0    98028   \n",
       "3      5000     1.0           0     0  ...      1965             0    98136   \n",
       "4      8080     1.0           0     0  ...      1987             0    98074   \n",
       "\n",
       "       lat     long  sqft_living15  sqft_lot15  yearsold  monthsold  daysold  \n",
       "0  47.5112 -122.257           1340        5650      2014         10       13  \n",
       "1  47.7210 -122.319           1690        7639      2014         12        9  \n",
       "2  47.7379 -122.233           2720        8062      2015          2       25  \n",
       "3  47.5208 -122.393           1360        5000      2014         12        9  \n",
       "4  47.6168 -122.045           1800        7503      2015          2       18  \n",
       "\n",
       "[5 rows x 24 columns]"
      ]
     },
     "execution_count": 6,
     "metadata": {},
     "output_type": "execute_result"
    }
   ],
   "source": [
    "datedt = df['date'].dt\n",
    "df['yearsold'] = datedt.year ## ambil tahun \n",
    "df['monthsold'] = datedt.month ## ambil bulan\n",
    "df['daysold'] = datedt.day ## ambil hari\n",
    "df.head()"
   ]
  },
  {
   "cell_type": "markdown",
   "id": "71a653f3",
   "metadata": {},
   "source": [
    "### c. Cek NA"
   ]
  },
  {
   "cell_type": "code",
   "execution_count": 7,
   "id": "0dd81b6e",
   "metadata": {},
   "outputs": [
    {
     "data": {
      "text/plain": [
       "id               0\n",
       "date             0\n",
       "price            0\n",
       "bedrooms         0\n",
       "bathrooms        0\n",
       "sqft_living      0\n",
       "sqft_lot         0\n",
       "floors           0\n",
       "waterfront       0\n",
       "view             0\n",
       "condition        0\n",
       "grade            0\n",
       "sqft_above       2\n",
       "sqft_basement    0\n",
       "yr_built         0\n",
       "yr_renovated     0\n",
       "zipcode          0\n",
       "lat              0\n",
       "long             0\n",
       "sqft_living15    0\n",
       "sqft_lot15       0\n",
       "yearsold         0\n",
       "monthsold        0\n",
       "daysold          0\n",
       "dtype: int64"
      ]
     },
     "execution_count": 7,
     "metadata": {},
     "output_type": "execute_result"
    }
   ],
   "source": [
    "df.isna().sum()"
   ]
  },
  {
   "cell_type": "markdown",
   "id": "9f07525f",
   "metadata": {},
   "source": [
    "Terdapat 2 NA di kolom sqft_above"
   ]
  },
  {
   "cell_type": "markdown",
   "id": "a174bb35",
   "metadata": {},
   "source": [
    "### d. Handling Data pasca review (rapihkan huruf, eksekusi NA, ubah tipe data )"
   ]
  },
  {
   "cell_type": "code",
   "execution_count": 8,
   "id": "ae9ead78",
   "metadata": {},
   "outputs": [],
   "source": [
    "df = df.dropna()"
   ]
  },
  {
   "cell_type": "code",
   "execution_count": 9,
   "id": "e3dfa8c7",
   "metadata": {},
   "outputs": [
    {
     "data": {
      "text/plain": [
       "id               0\n",
       "date             0\n",
       "price            0\n",
       "bedrooms         0\n",
       "bathrooms        0\n",
       "sqft_living      0\n",
       "sqft_lot         0\n",
       "floors           0\n",
       "waterfront       0\n",
       "view             0\n",
       "condition        0\n",
       "grade            0\n",
       "sqft_above       0\n",
       "sqft_basement    0\n",
       "yr_built         0\n",
       "yr_renovated     0\n",
       "zipcode          0\n",
       "lat              0\n",
       "long             0\n",
       "sqft_living15    0\n",
       "sqft_lot15       0\n",
       "yearsold         0\n",
       "monthsold        0\n",
       "daysold          0\n",
       "dtype: int64"
      ]
     },
     "execution_count": 9,
     "metadata": {},
     "output_type": "execute_result"
    }
   ],
   "source": [
    "df.isna().sum()"
   ]
  },
  {
   "cell_type": "code",
   "execution_count": 10,
   "id": "28d28a2f",
   "metadata": {},
   "outputs": [
    {
     "data": {
      "text/html": [
       "<div>\n",
       "<style scoped>\n",
       "    .dataframe tbody tr th:only-of-type {\n",
       "        vertical-align: middle;\n",
       "    }\n",
       "\n",
       "    .dataframe tbody tr th {\n",
       "        vertical-align: top;\n",
       "    }\n",
       "\n",
       "    .dataframe thead th {\n",
       "        text-align: right;\n",
       "    }\n",
       "</style>\n",
       "<table border=\"1\" class=\"dataframe\">\n",
       "  <thead>\n",
       "    <tr style=\"text-align: right;\">\n",
       "      <th></th>\n",
       "      <th>date</th>\n",
       "      <th>price</th>\n",
       "      <th>bedrooms</th>\n",
       "      <th>bathrooms</th>\n",
       "      <th>sqft_living</th>\n",
       "      <th>sqft_lot</th>\n",
       "      <th>floors</th>\n",
       "      <th>waterfront</th>\n",
       "      <th>view</th>\n",
       "      <th>condition</th>\n",
       "      <th>...</th>\n",
       "      <th>yr_built</th>\n",
       "      <th>yr_renovated</th>\n",
       "      <th>zipcode</th>\n",
       "      <th>lat</th>\n",
       "      <th>long</th>\n",
       "      <th>sqft_living15</th>\n",
       "      <th>sqft_lot15</th>\n",
       "      <th>yearsold</th>\n",
       "      <th>monthsold</th>\n",
       "      <th>daysold</th>\n",
       "    </tr>\n",
       "  </thead>\n",
       "  <tbody>\n",
       "    <tr>\n",
       "      <th>0</th>\n",
       "      <td>2014-10-13</td>\n",
       "      <td>221900.0</td>\n",
       "      <td>3</td>\n",
       "      <td>1.00</td>\n",
       "      <td>1180</td>\n",
       "      <td>5650</td>\n",
       "      <td>1.0</td>\n",
       "      <td>0</td>\n",
       "      <td>0</td>\n",
       "      <td>3</td>\n",
       "      <td>...</td>\n",
       "      <td>1955</td>\n",
       "      <td>0</td>\n",
       "      <td>98178</td>\n",
       "      <td>47.5112</td>\n",
       "      <td>-122.257</td>\n",
       "      <td>1340</td>\n",
       "      <td>5650</td>\n",
       "      <td>2014</td>\n",
       "      <td>10</td>\n",
       "      <td>13</td>\n",
       "    </tr>\n",
       "    <tr>\n",
       "      <th>1</th>\n",
       "      <td>2014-12-09</td>\n",
       "      <td>538000.0</td>\n",
       "      <td>3</td>\n",
       "      <td>2.25</td>\n",
       "      <td>2570</td>\n",
       "      <td>7242</td>\n",
       "      <td>2.0</td>\n",
       "      <td>0</td>\n",
       "      <td>0</td>\n",
       "      <td>3</td>\n",
       "      <td>...</td>\n",
       "      <td>1951</td>\n",
       "      <td>1991</td>\n",
       "      <td>98125</td>\n",
       "      <td>47.7210</td>\n",
       "      <td>-122.319</td>\n",
       "      <td>1690</td>\n",
       "      <td>7639</td>\n",
       "      <td>2014</td>\n",
       "      <td>12</td>\n",
       "      <td>9</td>\n",
       "    </tr>\n",
       "    <tr>\n",
       "      <th>2</th>\n",
       "      <td>2015-02-25</td>\n",
       "      <td>180000.0</td>\n",
       "      <td>2</td>\n",
       "      <td>1.00</td>\n",
       "      <td>770</td>\n",
       "      <td>10000</td>\n",
       "      <td>1.0</td>\n",
       "      <td>0</td>\n",
       "      <td>0</td>\n",
       "      <td>3</td>\n",
       "      <td>...</td>\n",
       "      <td>1933</td>\n",
       "      <td>0</td>\n",
       "      <td>98028</td>\n",
       "      <td>47.7379</td>\n",
       "      <td>-122.233</td>\n",
       "      <td>2720</td>\n",
       "      <td>8062</td>\n",
       "      <td>2015</td>\n",
       "      <td>2</td>\n",
       "      <td>25</td>\n",
       "    </tr>\n",
       "    <tr>\n",
       "      <th>3</th>\n",
       "      <td>2014-12-09</td>\n",
       "      <td>604000.0</td>\n",
       "      <td>4</td>\n",
       "      <td>3.00</td>\n",
       "      <td>1960</td>\n",
       "      <td>5000</td>\n",
       "      <td>1.0</td>\n",
       "      <td>0</td>\n",
       "      <td>0</td>\n",
       "      <td>5</td>\n",
       "      <td>...</td>\n",
       "      <td>1965</td>\n",
       "      <td>0</td>\n",
       "      <td>98136</td>\n",
       "      <td>47.5208</td>\n",
       "      <td>-122.393</td>\n",
       "      <td>1360</td>\n",
       "      <td>5000</td>\n",
       "      <td>2014</td>\n",
       "      <td>12</td>\n",
       "      <td>9</td>\n",
       "    </tr>\n",
       "    <tr>\n",
       "      <th>4</th>\n",
       "      <td>2015-02-18</td>\n",
       "      <td>510000.0</td>\n",
       "      <td>3</td>\n",
       "      <td>2.00</td>\n",
       "      <td>1680</td>\n",
       "      <td>8080</td>\n",
       "      <td>1.0</td>\n",
       "      <td>0</td>\n",
       "      <td>0</td>\n",
       "      <td>3</td>\n",
       "      <td>...</td>\n",
       "      <td>1987</td>\n",
       "      <td>0</td>\n",
       "      <td>98074</td>\n",
       "      <td>47.6168</td>\n",
       "      <td>-122.045</td>\n",
       "      <td>1800</td>\n",
       "      <td>7503</td>\n",
       "      <td>2015</td>\n",
       "      <td>2</td>\n",
       "      <td>18</td>\n",
       "    </tr>\n",
       "    <tr>\n",
       "      <th>...</th>\n",
       "      <td>...</td>\n",
       "      <td>...</td>\n",
       "      <td>...</td>\n",
       "      <td>...</td>\n",
       "      <td>...</td>\n",
       "      <td>...</td>\n",
       "      <td>...</td>\n",
       "      <td>...</td>\n",
       "      <td>...</td>\n",
       "      <td>...</td>\n",
       "      <td>...</td>\n",
       "      <td>...</td>\n",
       "      <td>...</td>\n",
       "      <td>...</td>\n",
       "      <td>...</td>\n",
       "      <td>...</td>\n",
       "      <td>...</td>\n",
       "      <td>...</td>\n",
       "      <td>...</td>\n",
       "      <td>...</td>\n",
       "      <td>...</td>\n",
       "    </tr>\n",
       "    <tr>\n",
       "      <th>21608</th>\n",
       "      <td>2014-05-21</td>\n",
       "      <td>360000.0</td>\n",
       "      <td>3</td>\n",
       "      <td>2.50</td>\n",
       "      <td>1530</td>\n",
       "      <td>1131</td>\n",
       "      <td>3.0</td>\n",
       "      <td>0</td>\n",
       "      <td>0</td>\n",
       "      <td>3</td>\n",
       "      <td>...</td>\n",
       "      <td>2009</td>\n",
       "      <td>0</td>\n",
       "      <td>98103</td>\n",
       "      <td>47.6993</td>\n",
       "      <td>-122.346</td>\n",
       "      <td>1530</td>\n",
       "      <td>1509</td>\n",
       "      <td>2014</td>\n",
       "      <td>5</td>\n",
       "      <td>21</td>\n",
       "    </tr>\n",
       "    <tr>\n",
       "      <th>21609</th>\n",
       "      <td>2015-02-23</td>\n",
       "      <td>400000.0</td>\n",
       "      <td>4</td>\n",
       "      <td>2.50</td>\n",
       "      <td>2310</td>\n",
       "      <td>5813</td>\n",
       "      <td>2.0</td>\n",
       "      <td>0</td>\n",
       "      <td>0</td>\n",
       "      <td>3</td>\n",
       "      <td>...</td>\n",
       "      <td>2014</td>\n",
       "      <td>0</td>\n",
       "      <td>98146</td>\n",
       "      <td>47.5107</td>\n",
       "      <td>-122.362</td>\n",
       "      <td>1830</td>\n",
       "      <td>7200</td>\n",
       "      <td>2015</td>\n",
       "      <td>2</td>\n",
       "      <td>23</td>\n",
       "    </tr>\n",
       "    <tr>\n",
       "      <th>21610</th>\n",
       "      <td>2014-06-23</td>\n",
       "      <td>402101.0</td>\n",
       "      <td>2</td>\n",
       "      <td>0.75</td>\n",
       "      <td>1020</td>\n",
       "      <td>1350</td>\n",
       "      <td>2.0</td>\n",
       "      <td>0</td>\n",
       "      <td>0</td>\n",
       "      <td>3</td>\n",
       "      <td>...</td>\n",
       "      <td>2009</td>\n",
       "      <td>0</td>\n",
       "      <td>98144</td>\n",
       "      <td>47.5944</td>\n",
       "      <td>-122.299</td>\n",
       "      <td>1020</td>\n",
       "      <td>2007</td>\n",
       "      <td>2014</td>\n",
       "      <td>6</td>\n",
       "      <td>23</td>\n",
       "    </tr>\n",
       "    <tr>\n",
       "      <th>21611</th>\n",
       "      <td>2015-01-16</td>\n",
       "      <td>400000.0</td>\n",
       "      <td>3</td>\n",
       "      <td>2.50</td>\n",
       "      <td>1600</td>\n",
       "      <td>2388</td>\n",
       "      <td>2.0</td>\n",
       "      <td>0</td>\n",
       "      <td>0</td>\n",
       "      <td>3</td>\n",
       "      <td>...</td>\n",
       "      <td>2004</td>\n",
       "      <td>0</td>\n",
       "      <td>98027</td>\n",
       "      <td>47.5345</td>\n",
       "      <td>-122.069</td>\n",
       "      <td>1410</td>\n",
       "      <td>1287</td>\n",
       "      <td>2015</td>\n",
       "      <td>1</td>\n",
       "      <td>16</td>\n",
       "    </tr>\n",
       "    <tr>\n",
       "      <th>21612</th>\n",
       "      <td>2014-10-15</td>\n",
       "      <td>325000.0</td>\n",
       "      <td>2</td>\n",
       "      <td>0.75</td>\n",
       "      <td>1020</td>\n",
       "      <td>1076</td>\n",
       "      <td>2.0</td>\n",
       "      <td>0</td>\n",
       "      <td>0</td>\n",
       "      <td>3</td>\n",
       "      <td>...</td>\n",
       "      <td>2008</td>\n",
       "      <td>0</td>\n",
       "      <td>98144</td>\n",
       "      <td>47.5941</td>\n",
       "      <td>-122.299</td>\n",
       "      <td>1020</td>\n",
       "      <td>1357</td>\n",
       "      <td>2014</td>\n",
       "      <td>10</td>\n",
       "      <td>15</td>\n",
       "    </tr>\n",
       "  </tbody>\n",
       "</table>\n",
       "<p>21611 rows × 23 columns</p>\n",
       "</div>"
      ],
      "text/plain": [
       "            date     price  bedrooms  bathrooms  sqft_living  sqft_lot  \\\n",
       "0     2014-10-13  221900.0         3       1.00         1180      5650   \n",
       "1     2014-12-09  538000.0         3       2.25         2570      7242   \n",
       "2     2015-02-25  180000.0         2       1.00          770     10000   \n",
       "3     2014-12-09  604000.0         4       3.00         1960      5000   \n",
       "4     2015-02-18  510000.0         3       2.00         1680      8080   \n",
       "...          ...       ...       ...        ...          ...       ...   \n",
       "21608 2014-05-21  360000.0         3       2.50         1530      1131   \n",
       "21609 2015-02-23  400000.0         4       2.50         2310      5813   \n",
       "21610 2014-06-23  402101.0         2       0.75         1020      1350   \n",
       "21611 2015-01-16  400000.0         3       2.50         1600      2388   \n",
       "21612 2014-10-15  325000.0         2       0.75         1020      1076   \n",
       "\n",
       "       floors  waterfront  view  condition  ...  yr_built  yr_renovated  \\\n",
       "0         1.0           0     0          3  ...      1955             0   \n",
       "1         2.0           0     0          3  ...      1951          1991   \n",
       "2         1.0           0     0          3  ...      1933             0   \n",
       "3         1.0           0     0          5  ...      1965             0   \n",
       "4         1.0           0     0          3  ...      1987             0   \n",
       "...       ...         ...   ...        ...  ...       ...           ...   \n",
       "21608     3.0           0     0          3  ...      2009             0   \n",
       "21609     2.0           0     0          3  ...      2014             0   \n",
       "21610     2.0           0     0          3  ...      2009             0   \n",
       "21611     2.0           0     0          3  ...      2004             0   \n",
       "21612     2.0           0     0          3  ...      2008             0   \n",
       "\n",
       "       zipcode      lat     long  sqft_living15  sqft_lot15  yearsold  \\\n",
       "0        98178  47.5112 -122.257           1340        5650      2014   \n",
       "1        98125  47.7210 -122.319           1690        7639      2014   \n",
       "2        98028  47.7379 -122.233           2720        8062      2015   \n",
       "3        98136  47.5208 -122.393           1360        5000      2014   \n",
       "4        98074  47.6168 -122.045           1800        7503      2015   \n",
       "...        ...      ...      ...            ...         ...       ...   \n",
       "21608    98103  47.6993 -122.346           1530        1509      2014   \n",
       "21609    98146  47.5107 -122.362           1830        7200      2015   \n",
       "21610    98144  47.5944 -122.299           1020        2007      2014   \n",
       "21611    98027  47.5345 -122.069           1410        1287      2015   \n",
       "21612    98144  47.5941 -122.299           1020        1357      2014   \n",
       "\n",
       "       monthsold  daysold  \n",
       "0             10       13  \n",
       "1             12        9  \n",
       "2              2       25  \n",
       "3             12        9  \n",
       "4              2       18  \n",
       "...          ...      ...  \n",
       "21608          5       21  \n",
       "21609          2       23  \n",
       "21610          6       23  \n",
       "21611          1       16  \n",
       "21612         10       15  \n",
       "\n",
       "[21611 rows x 23 columns]"
      ]
     },
     "execution_count": 10,
     "metadata": {},
     "output_type": "execute_result"
    }
   ],
   "source": [
    "# hapus kolom \n",
    "df.drop(['id'],axis=1)\n",
    "# karena tidak diperlukan"
   ]
  },
  {
   "cell_type": "code",
   "execution_count": 11,
   "id": "cc467743",
   "metadata": {},
   "outputs": [
    {
     "data": {
      "text/html": [
       "<div>\n",
       "<style scoped>\n",
       "    .dataframe tbody tr th:only-of-type {\n",
       "        vertical-align: middle;\n",
       "    }\n",
       "\n",
       "    .dataframe tbody tr th {\n",
       "        vertical-align: top;\n",
       "    }\n",
       "\n",
       "    .dataframe thead th {\n",
       "        text-align: right;\n",
       "    }\n",
       "</style>\n",
       "<table border=\"1\" class=\"dataframe\">\n",
       "  <thead>\n",
       "    <tr style=\"text-align: right;\">\n",
       "      <th></th>\n",
       "      <th>id</th>\n",
       "      <th>price</th>\n",
       "      <th>bedrooms</th>\n",
       "      <th>bathrooms</th>\n",
       "      <th>sqft_living</th>\n",
       "      <th>sqft_lot</th>\n",
       "      <th>floors</th>\n",
       "      <th>waterfront</th>\n",
       "      <th>view</th>\n",
       "      <th>condition</th>\n",
       "      <th>...</th>\n",
       "      <th>yr_built</th>\n",
       "      <th>yr_renovated</th>\n",
       "      <th>zipcode</th>\n",
       "      <th>lat</th>\n",
       "      <th>long</th>\n",
       "      <th>sqft_living15</th>\n",
       "      <th>sqft_lot15</th>\n",
       "      <th>yearsold</th>\n",
       "      <th>monthsold</th>\n",
       "      <th>daysold</th>\n",
       "    </tr>\n",
       "  </thead>\n",
       "  <tbody>\n",
       "    <tr>\n",
       "      <th>0</th>\n",
       "      <td>7129300520</td>\n",
       "      <td>221900.0</td>\n",
       "      <td>3</td>\n",
       "      <td>1.00</td>\n",
       "      <td>1180</td>\n",
       "      <td>5650</td>\n",
       "      <td>1.0</td>\n",
       "      <td>0</td>\n",
       "      <td>0</td>\n",
       "      <td>3</td>\n",
       "      <td>...</td>\n",
       "      <td>1955</td>\n",
       "      <td>0</td>\n",
       "      <td>98178</td>\n",
       "      <td>47.5112</td>\n",
       "      <td>-122.257</td>\n",
       "      <td>1340</td>\n",
       "      <td>5650</td>\n",
       "      <td>2014</td>\n",
       "      <td>10</td>\n",
       "      <td>13</td>\n",
       "    </tr>\n",
       "    <tr>\n",
       "      <th>1</th>\n",
       "      <td>6414100192</td>\n",
       "      <td>538000.0</td>\n",
       "      <td>3</td>\n",
       "      <td>2.25</td>\n",
       "      <td>2570</td>\n",
       "      <td>7242</td>\n",
       "      <td>2.0</td>\n",
       "      <td>0</td>\n",
       "      <td>0</td>\n",
       "      <td>3</td>\n",
       "      <td>...</td>\n",
       "      <td>1951</td>\n",
       "      <td>1991</td>\n",
       "      <td>98125</td>\n",
       "      <td>47.7210</td>\n",
       "      <td>-122.319</td>\n",
       "      <td>1690</td>\n",
       "      <td>7639</td>\n",
       "      <td>2014</td>\n",
       "      <td>12</td>\n",
       "      <td>9</td>\n",
       "    </tr>\n",
       "    <tr>\n",
       "      <th>2</th>\n",
       "      <td>5631500400</td>\n",
       "      <td>180000.0</td>\n",
       "      <td>2</td>\n",
       "      <td>1.00</td>\n",
       "      <td>770</td>\n",
       "      <td>10000</td>\n",
       "      <td>1.0</td>\n",
       "      <td>0</td>\n",
       "      <td>0</td>\n",
       "      <td>3</td>\n",
       "      <td>...</td>\n",
       "      <td>1933</td>\n",
       "      <td>0</td>\n",
       "      <td>98028</td>\n",
       "      <td>47.7379</td>\n",
       "      <td>-122.233</td>\n",
       "      <td>2720</td>\n",
       "      <td>8062</td>\n",
       "      <td>2015</td>\n",
       "      <td>2</td>\n",
       "      <td>25</td>\n",
       "    </tr>\n",
       "    <tr>\n",
       "      <th>3</th>\n",
       "      <td>2487200875</td>\n",
       "      <td>604000.0</td>\n",
       "      <td>4</td>\n",
       "      <td>3.00</td>\n",
       "      <td>1960</td>\n",
       "      <td>5000</td>\n",
       "      <td>1.0</td>\n",
       "      <td>0</td>\n",
       "      <td>0</td>\n",
       "      <td>5</td>\n",
       "      <td>...</td>\n",
       "      <td>1965</td>\n",
       "      <td>0</td>\n",
       "      <td>98136</td>\n",
       "      <td>47.5208</td>\n",
       "      <td>-122.393</td>\n",
       "      <td>1360</td>\n",
       "      <td>5000</td>\n",
       "      <td>2014</td>\n",
       "      <td>12</td>\n",
       "      <td>9</td>\n",
       "    </tr>\n",
       "    <tr>\n",
       "      <th>4</th>\n",
       "      <td>1954400510</td>\n",
       "      <td>510000.0</td>\n",
       "      <td>3</td>\n",
       "      <td>2.00</td>\n",
       "      <td>1680</td>\n",
       "      <td>8080</td>\n",
       "      <td>1.0</td>\n",
       "      <td>0</td>\n",
       "      <td>0</td>\n",
       "      <td>3</td>\n",
       "      <td>...</td>\n",
       "      <td>1987</td>\n",
       "      <td>0</td>\n",
       "      <td>98074</td>\n",
       "      <td>47.6168</td>\n",
       "      <td>-122.045</td>\n",
       "      <td>1800</td>\n",
       "      <td>7503</td>\n",
       "      <td>2015</td>\n",
       "      <td>2</td>\n",
       "      <td>18</td>\n",
       "    </tr>\n",
       "  </tbody>\n",
       "</table>\n",
       "<p>5 rows × 23 columns</p>\n",
       "</div>"
      ],
      "text/plain": [
       "           id     price  bedrooms  bathrooms  sqft_living  sqft_lot  floors  \\\n",
       "0  7129300520  221900.0         3       1.00         1180      5650     1.0   \n",
       "1  6414100192  538000.0         3       2.25         2570      7242     2.0   \n",
       "2  5631500400  180000.0         2       1.00          770     10000     1.0   \n",
       "3  2487200875  604000.0         4       3.00         1960      5000     1.0   \n",
       "4  1954400510  510000.0         3       2.00         1680      8080     1.0   \n",
       "\n",
       "   waterfront  view  condition  ...  yr_built  yr_renovated  zipcode      lat  \\\n",
       "0           0     0          3  ...      1955             0    98178  47.5112   \n",
       "1           0     0          3  ...      1951          1991    98125  47.7210   \n",
       "2           0     0          3  ...      1933             0    98028  47.7379   \n",
       "3           0     0          5  ...      1965             0    98136  47.5208   \n",
       "4           0     0          3  ...      1987             0    98074  47.6168   \n",
       "\n",
       "      long  sqft_living15  sqft_lot15  yearsold  monthsold  daysold  \n",
       "0 -122.257           1340        5650      2014         10       13  \n",
       "1 -122.319           1690        7639      2014         12        9  \n",
       "2 -122.233           2720        8062      2015          2       25  \n",
       "3 -122.393           1360        5000      2014         12        9  \n",
       "4 -122.045           1800        7503      2015          2       18  \n",
       "\n",
       "[5 rows x 23 columns]"
      ]
     },
     "execution_count": 11,
     "metadata": {},
     "output_type": "execute_result"
    }
   ],
   "source": [
    "# drop kolom date\n",
    "df.drop(columns='date', inplace=True) \n",
    "df.head()"
   ]
  },
  {
   "cell_type": "code",
   "execution_count": 12,
   "id": "a9a3297c",
   "metadata": {},
   "outputs": [
    {
     "name": "stdout",
     "output_type": "stream",
     "text": [
      "<class 'pandas.core.frame.DataFrame'>\n",
      "Int64Index: 21611 entries, 0 to 21612\n",
      "Data columns (total 23 columns):\n",
      " #   Column         Non-Null Count  Dtype  \n",
      "---  ------         --------------  -----  \n",
      " 0   id             21611 non-null  int64  \n",
      " 1   price          21611 non-null  float64\n",
      " 2   bedrooms       21611 non-null  int64  \n",
      " 3   bathrooms      21611 non-null  float64\n",
      " 4   sqft_living    21611 non-null  int64  \n",
      " 5   sqft_lot       21611 non-null  int64  \n",
      " 6   floors         21611 non-null  float64\n",
      " 7   waterfront     21611 non-null  int64  \n",
      " 8   view           21611 non-null  int64  \n",
      " 9   condition      21611 non-null  int64  \n",
      " 10  grade          21611 non-null  int64  \n",
      " 11  sqft_above     21611 non-null  float64\n",
      " 12  sqft_basement  21611 non-null  int64  \n",
      " 13  yr_built       21611 non-null  int64  \n",
      " 14  yr_renovated   21611 non-null  int64  \n",
      " 15  zipcode        21611 non-null  int64  \n",
      " 16  lat            21611 non-null  float64\n",
      " 17  long           21611 non-null  float64\n",
      " 18  sqft_living15  21611 non-null  int64  \n",
      " 19  sqft_lot15     21611 non-null  int64  \n",
      " 20  yearsold       21611 non-null  int64  \n",
      " 21  monthsold      21611 non-null  int64  \n",
      " 22  daysold        21611 non-null  int64  \n",
      "dtypes: float64(6), int64(17)\n",
      "memory usage: 4.0 MB\n"
     ]
    }
   ],
   "source": [
    "df.info()"
   ]
  },
  {
   "cell_type": "code",
   "execution_count": 13,
   "id": "fa6da81a",
   "metadata": {},
   "outputs": [
    {
     "data": {
      "image/png": "[encoded data removed]",
      "text/plain": [
       "<Figure size 864x288 with 2 Axes>"
      ]
     },
     "metadata": {
      "needs_background": "light"
     },
     "output_type": "display_data"
    }
   ],
   "source": [
    "# analisis univariate persebaran price\n",
    "# distribusi persebaran price\n",
    "f = plt.figure(figsize=(12,4))\n",
    "\n",
    "f.add_subplot(1,2,1)\n",
    "df['price'].plot(kind='kde')\n",
    "\n",
    "f.add_subplot(1,2,2)\n",
    "sns.boxplot(df['price'])\n",
    "plt.show()"
   ]
  },
  {
   "cell_type": "markdown",
   "id": "22485c29",
   "metadata": {},
   "source": [
    "# 4. Cek Distribusinya"
   ]
  },
  {
   "cell_type": "markdown",
   "id": "7939a447",
   "metadata": {},
   "source": [
    "### a. Cek distribusi"
   ]
  },
  {
   "cell_type": "code",
   "execution_count": 14,
   "id": "0fcdac36",
   "metadata": {},
   "outputs": [
    {
     "data": {
      "image/png": "[encoded data removed]",
      "text/plain": [
       "<Figure size 1080x1008 with 2 Axes>"
      ]
     },
     "metadata": {
      "needs_background": "light"
     },
     "output_type": "display_data"
    }
   ],
   "source": [
    "### Spearman\n",
    "plt.figure(figsize=(15,14))\n",
    "sns.heatmap(df.corr('spearman'), annot=True)\n",
    "plt.show()\n",
    "# untuk korelasi tidak normal"
   ]
  },
  {
   "cell_type": "markdown",
   "id": "72693d80",
   "metadata": {},
   "source": [
    "# 5. Machine Learning"
   ]
  },
  {
   "cell_type": "markdown",
   "id": "6adc1e46",
   "metadata": {},
   "source": [
    "### a. Splitting Data"
   ]
  },
  {
   "cell_type": "code",
   "execution_count": 15,
   "id": "7b682afa",
   "metadata": {},
   "outputs": [],
   "source": [
    "from sklearn.linear_model import LinearRegression\n",
    "from sklearn.model_selection import train_test_split\n",
    "from sklearn.metrics import mean_absolute_error, r2_score, mean_squared_error, median_absolute_error\n",
    "from sklearn.linear_model import Ridge, Lasso, ElasticNet\n",
    "from sklearn.preprocessing import PolynomialFeatures"
   ]
  },
  {
   "cell_type": "code",
   "execution_count": 16,
   "id": "bf8a4255",
   "metadata": {},
   "outputs": [],
   "source": [
    "X = df.drop(columns=['price'],axis=1)\n",
    "y = df['price']"
   ]
  },
  {
   "cell_type": "code",
   "execution_count": 17,
   "id": "a60a8d9e",
   "metadata": {},
   "outputs": [],
   "source": [
    "X_train,X_test,y_train,y_test = train_test_split(X, y, test_size=0.2, random_state=4)"
   ]
  },
  {
   "cell_type": "markdown",
   "id": "d8323643",
   "metadata": {},
   "source": [
    "### b. Modelling"
   ]
  },
  {
   "cell_type": "markdown",
   "id": "4a43a79b",
   "metadata": {},
   "source": [
    "#### Linear Regression"
   ]
  },
  {
   "cell_type": "code",
   "execution_count": 18,
   "id": "f46bac8d",
   "metadata": {},
   "outputs": [],
   "source": [
    "Model = LinearRegression(fit_intercept=True)"
   ]
  },
  {
   "cell_type": "code",
   "execution_count": 19,
   "id": "6312d5d9",
   "metadata": {},
   "outputs": [
    {
     "data": {
      "text/plain": [
       "LinearRegression()"
      ]
     },
     "execution_count": 19,
     "metadata": {},
     "output_type": "execute_result"
    }
   ],
   "source": [
    "Model.fit(X_train,y_train)"
   ]
  },
  {
   "cell_type": "markdown",
   "id": "8cfa597c",
   "metadata": {},
   "source": [
    "### Evaluation Metrics Calculation"
   ]
  },
  {
   "cell_type": "code",
   "execution_count": 20,
   "id": "e148c00f",
   "metadata": {},
   "outputs": [],
   "source": [
    "pred_train = Model.predict(X_train)"
   ]
  },
  {
   "cell_type": "code",
   "execution_count": 21,
   "id": "df5e57ef",
   "metadata": {},
   "outputs": [],
   "source": [
    "pred_test = Model.predict(X_test)"
   ]
  },
  {
   "cell_type": "code",
   "execution_count": 22,
   "id": "c4c8db35",
   "metadata": {},
   "outputs": [],
   "source": [
    "def Eva_Matrix(Model, X, y_true):\n",
    "    y_pred = Model.predict(X)\n",
    "    R2 = r2_score(y_true, y_pred)\n",
    "    MAE = mean_absolute_error(y_true, y_pred)\n",
    "    MSE = mean_squared_error(y_true, y_pred)\n",
    "    RMSE = np.sqrt(MSE)\n",
    "    return R2, MAE, MSE, RMSE"
   ]
  },
  {
   "cell_type": "markdown",
   "id": "ecb7565a",
   "metadata": {},
   "source": [
    "#### Training Linear Regression"
   ]
  },
  {
   "cell_type": "code",
   "execution_count": 23,
   "id": "ef5b5fa1",
   "metadata": {},
   "outputs": [],
   "source": [
    "r2_train, MAE_train, MSE_train, RMSE_train = Eva_Matrix(Model, X_train, y_train)"
   ]
  },
  {
   "cell_type": "markdown",
   "id": "69581c90",
   "metadata": {},
   "source": [
    "#### Testing Linear Regression"
   ]
  },
  {
   "cell_type": "code",
   "execution_count": 24,
   "id": "f7feae23",
   "metadata": {},
   "outputs": [],
   "source": [
    "r2_test, MAE_test, MSE_test, RMSE_test = Eva_Matrix(Model, X_test, y_test)"
   ]
  },
  {
   "cell_type": "code",
   "execution_count": 25,
   "id": "4f4891b3",
   "metadata": {},
   "outputs": [
    {
     "data": {
      "text/html": [
       "<div>\n",
       "<style scoped>\n",
       "    .dataframe tbody tr th:only-of-type {\n",
       "        vertical-align: middle;\n",
       "    }\n",
       "\n",
       "    .dataframe tbody tr th {\n",
       "        vertical-align: top;\n",
       "    }\n",
       "\n",
       "    .dataframe thead th {\n",
       "        text-align: right;\n",
       "    }\n",
       "</style>\n",
       "<table border=\"1\" class=\"dataframe\">\n",
       "  <thead>\n",
       "    <tr style=\"text-align: right;\">\n",
       "      <th></th>\n",
       "      <th>R Squared</th>\n",
       "      <th>MAE</th>\n",
       "      <th>MSE</th>\n",
       "      <th>RMSE</th>\n",
       "    </tr>\n",
       "  </thead>\n",
       "  <tbody>\n",
       "    <tr>\n",
       "      <th>Training LinearReg</th>\n",
       "      <td>0.701793</td>\n",
       "      <td>126703.055249</td>\n",
       "      <td>4.117746e+10</td>\n",
       "      <td>202922.291468</td>\n",
       "    </tr>\n",
       "    <tr>\n",
       "      <th>Testing LinearReg</th>\n",
       "      <td>0.699067</td>\n",
       "      <td>124621.184023</td>\n",
       "      <td>3.659529e+10</td>\n",
       "      <td>191298.962922</td>\n",
       "    </tr>\n",
       "  </tbody>\n",
       "</table>\n",
       "</div>"
      ],
      "text/plain": [
       "                    R Squared            MAE           MSE           RMSE\n",
       "Training LinearReg   0.701793  126703.055249  4.117746e+10  202922.291468\n",
       "Testing LinearReg    0.699067  124621.184023  3.659529e+10  191298.962922"
      ]
     },
     "execution_count": 25,
     "metadata": {},
     "output_type": "execute_result"
    }
   ],
   "source": [
    "eva_LR = {\n",
    "    'Training LinearReg' : [r2_train, MAE_train, MSE_train, RMSE_train],\n",
    "    'Testing LinearReg' : [r2_test, MAE_test, MSE_test, RMSE_test]\n",
    "}\n",
    "\n",
    "pd.DataFrame(eva_LR, index=['R Squared', 'MAE', 'MSE', 'RMSE']).T"
   ]
  },
  {
   "cell_type": "markdown",
   "id": "38a15cc3",
   "metadata": {},
   "source": [
    "Nilai R Squared masih di bawah 0.7, perlu melakukan improvement untuk meningkatkan R Squared"
   ]
  },
  {
   "cell_type": "markdown",
   "id": "c4c0fa56",
   "metadata": {},
   "source": [
    "# 6. ML Improvement (Polynomial) Feature Engineering"
   ]
  },
  {
   "cell_type": "code",
   "execution_count": 26,
   "id": "a053409c",
   "metadata": {},
   "outputs": [],
   "source": [
    "Poly = PolynomialFeatures(degree=2,include_bias=False,interaction_only=True)"
   ]
  },
  {
   "cell_type": "code",
   "execution_count": 27,
   "id": "44ed8c6b",
   "metadata": {},
   "outputs": [],
   "source": [
    "Poly = Poly.fit(X_train)"
   ]
  },
  {
   "cell_type": "code",
   "execution_count": 28,
   "id": "9ccf2fce",
   "metadata": {},
   "outputs": [],
   "source": [
    "X_trainPoly = Poly.transform(X_train)\n",
    "X_testPoly = Poly.transform(X_test)"
   ]
  },
  {
   "cell_type": "code",
   "execution_count": 29,
   "id": "320e5f0e",
   "metadata": {},
   "outputs": [],
   "source": [
    "df_XtrainPoly = pd.DataFrame(X_trainPoly)\n",
    "df_XtestPoly = pd.DataFrame(X_testPoly)"
   ]
  },
  {
   "cell_type": "markdown",
   "id": "dc8d7743",
   "metadata": {},
   "source": [
    "### Training Model Polynomial Regression"
   ]
  },
  {
   "cell_type": "code",
   "execution_count": 30,
   "id": "3066a0ec",
   "metadata": {},
   "outputs": [],
   "source": [
    "Model_PF = LinearRegression()"
   ]
  },
  {
   "cell_type": "code",
   "execution_count": 31,
   "id": "2c1eb5d2",
   "metadata": {},
   "outputs": [
    {
     "data": {
      "text/plain": [
       "LinearRegression()"
      ]
     },
     "execution_count": 31,
     "metadata": {},
     "output_type": "execute_result"
    }
   ],
   "source": [
    "Model_PF.fit(df_XtrainPoly, y_train)"
   ]
  },
  {
   "cell_type": "code",
   "execution_count": 32,
   "id": "bb333ff3",
   "metadata": {},
   "outputs": [],
   "source": [
    "PF_train = Model_PF.predict(df_XtrainPoly)\n",
    "PF_test = Model_PF.predict(df_XtestPoly)"
   ]
  },
  {
   "cell_type": "markdown",
   "id": "337ef781",
   "metadata": {},
   "source": [
    "### Evaluation Metrics Polynomial"
   ]
  },
  {
   "cell_type": "markdown",
   "id": "9f3a81c5",
   "metadata": {},
   "source": [
    "Training"
   ]
  },
  {
   "cell_type": "code",
   "execution_count": 33,
   "id": "b013a810",
   "metadata": {},
   "outputs": [],
   "source": [
    "r2_train_PF, MAE_train_PF, MSE_train_PF, RMSE_train_PF = Eva_Matrix(Model_PF, df_XtrainPoly, y_train)"
   ]
  },
  {
   "cell_type": "markdown",
   "id": "23523e83",
   "metadata": {},
   "source": [
    "Testing"
   ]
  },
  {
   "cell_type": "code",
   "execution_count": 34,
   "id": "5821c75c",
   "metadata": {},
   "outputs": [],
   "source": [
    "r2_test_PF, MAE_test_PF, MSE_test_PF, RMSE_test_PF = Eva_Matrix(Model_PF, df_XtestPoly, y_test)"
   ]
  },
  {
   "cell_type": "code",
   "execution_count": 35,
   "id": "ee865281",
   "metadata": {},
   "outputs": [
    {
     "data": {
      "text/html": [
       "<div>\n",
       "<style scoped>\n",
       "    .dataframe tbody tr th:only-of-type {\n",
       "        vertical-align: middle;\n",
       "    }\n",
       "\n",
       "    .dataframe tbody tr th {\n",
       "        vertical-align: top;\n",
       "    }\n",
       "\n",
       "    .dataframe thead th {\n",
       "        text-align: right;\n",
       "    }\n",
       "</style>\n",
       "<table border=\"1\" class=\"dataframe\">\n",
       "  <thead>\n",
       "    <tr style=\"text-align: right;\">\n",
       "      <th></th>\n",
       "      <th>R Squared</th>\n",
       "      <th>MAE</th>\n",
       "      <th>MSE</th>\n",
       "      <th>RMSE</th>\n",
       "    </tr>\n",
       "  </thead>\n",
       "  <tbody>\n",
       "    <tr>\n",
       "      <th>Training LinearReg</th>\n",
       "      <td>0.701793</td>\n",
       "      <td>126703.055249</td>\n",
       "      <td>4.117746e+10</td>\n",
       "      <td>202922.291468</td>\n",
       "    </tr>\n",
       "    <tr>\n",
       "      <th>Testing LinearReg</th>\n",
       "      <td>0.699067</td>\n",
       "      <td>124621.184023</td>\n",
       "      <td>3.659529e+10</td>\n",
       "      <td>191298.962922</td>\n",
       "    </tr>\n",
       "    <tr>\n",
       "      <th>Training LinearReg PF</th>\n",
       "      <td>0.811651</td>\n",
       "      <td>104720.151737</td>\n",
       "      <td>2.600795e+10</td>\n",
       "      <td>161269.815392</td>\n",
       "    </tr>\n",
       "    <tr>\n",
       "      <th>Testing LinearReg PF</th>\n",
       "      <td>0.776251</td>\n",
       "      <td>107775.222835</td>\n",
       "      <td>2.720923e+10</td>\n",
       "      <td>164952.198705</td>\n",
       "    </tr>\n",
       "  </tbody>\n",
       "</table>\n",
       "</div>"
      ],
      "text/plain": [
       "                       R Squared            MAE           MSE           RMSE\n",
       "Training LinearReg      0.701793  126703.055249  4.117746e+10  202922.291468\n",
       "Testing LinearReg       0.699067  124621.184023  3.659529e+10  191298.962922\n",
       "Training LinearReg PF   0.811651  104720.151737  2.600795e+10  161269.815392\n",
       "Testing LinearReg PF    0.776251  107775.222835  2.720923e+10  164952.198705"
      ]
     },
     "execution_count": 35,
     "metadata": {},
     "output_type": "execute_result"
    }
   ],
   "source": [
    "eva_LR_PF = {\n",
    "    'Training LinearReg' : [r2_train, MAE_train, MSE_train, RMSE_train],\n",
    "    'Testing LinearReg' : [r2_test, MAE_test, MSE_test, RMSE_test],\n",
    "    'Training LinearReg PF' : [r2_train_PF, MAE_train_PF, MSE_train_PF, RMSE_train_PF],\n",
    "    'Testing LinearReg PF' : [r2_test_PF, MAE_test_PF, MSE_test_PF, RMSE_test_PF]\n",
    "}\n",
    "\n",
    "pd.DataFrame(eva_LR_PF, index=['R Squared', 'MAE', 'MSE', 'RMSE']).T"
   ]
  },
  {
   "cell_type": "markdown",
   "id": "cbed17f8",
   "metadata": {},
   "source": [
    "Improvement yg dilakukan menggunakan polynomial features berhasil meningkatkan R Squared dari sebelumnya di bawah 0.7 menjadi 0.77."
   ]
  },
  {
   "cell_type": "markdown",
   "id": "f37cd570",
   "metadata": {},
   "source": [
    "# 7. ML Improvement Manual "
   ]
  },
  {
   "cell_type": "markdown",
   "id": "12d3e092",
   "metadata": {},
   "source": [
    "## Ridge"
   ]
  },
  {
   "cell_type": "code",
   "execution_count": 36,
   "id": "884881ee",
   "metadata": {},
   "outputs": [],
   "source": [
    "Model_R_PF = Ridge()"
   ]
  },
  {
   "cell_type": "code",
   "execution_count": 37,
   "id": "0de2477c",
   "metadata": {},
   "outputs": [
    {
     "data": {
      "text/plain": [
       "Ridge()"
      ]
     },
     "execution_count": 37,
     "metadata": {},
     "output_type": "execute_result"
    }
   ],
   "source": [
    "Model_R_PF.fit(df_XtrainPoly, y_train)"
   ]
  },
  {
   "cell_type": "markdown",
   "id": "40467d4f",
   "metadata": {},
   "source": [
    "Training"
   ]
  },
  {
   "cell_type": "code",
   "execution_count": 38,
   "id": "0528e915",
   "metadata": {},
   "outputs": [],
   "source": [
    "r2_R_tr_PF, MAE_R_tr_PF, MSE_R_tr_PF, RMSE_R_tr_PF = Eva_Matrix(Model_R_PF, df_XtrainPoly, y_train)"
   ]
  },
  {
   "cell_type": "markdown",
   "id": "372572be",
   "metadata": {},
   "source": [
    "Testing"
   ]
  },
  {
   "cell_type": "code",
   "execution_count": 39,
   "id": "710b0072",
   "metadata": {},
   "outputs": [],
   "source": [
    "r2_R_ts_PF, MAE_R_ts_PF, MSE_R_ts_PF, RMSE_R_ts_PF = Eva_Matrix(Model_R_PF, df_XtestPoly, y_test)"
   ]
  },
  {
   "cell_type": "markdown",
   "id": "5ba009b4",
   "metadata": {},
   "source": [
    "## Lasso"
   ]
  },
  {
   "cell_type": "code",
   "execution_count": 40,
   "id": "c682c096",
   "metadata": {},
   "outputs": [],
   "source": [
    "Model_L_PF = Lasso()"
   ]
  },
  {
   "cell_type": "code",
   "execution_count": 41,
   "id": "4dca6bec",
   "metadata": {},
   "outputs": [
    {
     "data": {
      "text/plain": [
       "Lasso()"
      ]
     },
     "execution_count": 41,
     "metadata": {},
     "output_type": "execute_result"
    }
   ],
   "source": [
    "Model_L_PF.fit(df_XtrainPoly, y_train)"
   ]
  },
  {
   "cell_type": "markdown",
   "id": "0e82ddc6",
   "metadata": {},
   "source": [
    "Training"
   ]
  },
  {
   "cell_type": "code",
   "execution_count": 42,
   "id": "de22f838",
   "metadata": {},
   "outputs": [],
   "source": [
    "r2_L_tr_PF, MAE_L_tr_PF, MSE_L_tr_PF, RMSE_L_tr_PF = Eva_Matrix(Model_L_PF, df_XtrainPoly, y_train)"
   ]
  },
  {
   "cell_type": "markdown",
   "id": "28acaf53",
   "metadata": {},
   "source": [
    "Testing"
   ]
  },
  {
   "cell_type": "code",
   "execution_count": 43,
   "id": "54e956ac",
   "metadata": {},
   "outputs": [],
   "source": [
    "r2_L_ts_PF, MAE_L_ts_PF, MSE_L_ts_PF, RMSE_L_ts_PF = Eva_Matrix(Model_L_PF, df_XtestPoly, y_test)"
   ]
  },
  {
   "cell_type": "markdown",
   "id": "0c593ed7",
   "metadata": {},
   "source": [
    "## ElasticNet"
   ]
  },
  {
   "cell_type": "code",
   "execution_count": 44,
   "id": "842e057b",
   "metadata": {},
   "outputs": [],
   "source": [
    "Model_E_PF = ElasticNet()"
   ]
  },
  {
   "cell_type": "code",
   "execution_count": 45,
   "id": "5c440cbd",
   "metadata": {},
   "outputs": [
    {
     "data": {
      "text/plain": [
       "ElasticNet()"
      ]
     },
     "execution_count": 45,
     "metadata": {},
     "output_type": "execute_result"
    }
   ],
   "source": [
    "Model_E_PF.fit(df_XtrainPoly, y_train)"
   ]
  },
  {
   "cell_type": "markdown",
   "id": "7ca1a609",
   "metadata": {},
   "source": [
    "Training"
   ]
  },
  {
   "cell_type": "code",
   "execution_count": 46,
   "id": "a08a00d7",
   "metadata": {},
   "outputs": [],
   "source": [
    "r2_E_tr_PF, MAE_E_tr_PF, MSE_E_tr_PF, RMSE_E_tr_PF = Eva_Matrix(Model_E_PF, df_XtrainPoly, y_train)"
   ]
  },
  {
   "cell_type": "markdown",
   "id": "10f1aab5",
   "metadata": {},
   "source": [
    "Testing"
   ]
  },
  {
   "cell_type": "code",
   "execution_count": 47,
   "id": "a77ffd9c",
   "metadata": {},
   "outputs": [],
   "source": [
    "r2_E_ts_PF, MAE_E_ts_PF, MSE_E_ts_PF, RMSE_E_ts_PF = Eva_Matrix(Model_E_PF, df_XtestPoly, y_test)"
   ]
  },
  {
   "cell_type": "markdown",
   "id": "3e8b8278",
   "metadata": {},
   "source": [
    "## Comparison"
   ]
  },
  {
   "cell_type": "code",
   "execution_count": 48,
   "id": "601a528f",
   "metadata": {},
   "outputs": [
    {
     "data": {
      "text/html": [
       "<div>\n",
       "<style scoped>\n",
       "    .dataframe tbody tr th:only-of-type {\n",
       "        vertical-align: middle;\n",
       "    }\n",
       "\n",
       "    .dataframe tbody tr th {\n",
       "        vertical-align: top;\n",
       "    }\n",
       "\n",
       "    .dataframe thead th {\n",
       "        text-align: right;\n",
       "    }\n",
       "</style>\n",
       "<table border=\"1\" class=\"dataframe\">\n",
       "  <thead>\n",
       "    <tr style=\"text-align: right;\">\n",
       "      <th></th>\n",
       "      <th>R2</th>\n",
       "      <th>MAE</th>\n",
       "      <th>MSE</th>\n",
       "      <th>RMSE</th>\n",
       "    </tr>\n",
       "  </thead>\n",
       "  <tbody>\n",
       "    <tr>\n",
       "      <th>Poly LinearReg Training</th>\n",
       "      <td>0.811651</td>\n",
       "      <td>104720.151737</td>\n",
       "      <td>2.600795e+10</td>\n",
       "      <td>161269.815392</td>\n",
       "    </tr>\n",
       "    <tr>\n",
       "      <th>Poly LinearReg Testing</th>\n",
       "      <td>0.776251</td>\n",
       "      <td>107775.222835</td>\n",
       "      <td>2.720923e+10</td>\n",
       "      <td>164952.198705</td>\n",
       "    </tr>\n",
       "    <tr>\n",
       "      <th>Poly Ridge Training</th>\n",
       "      <td>0.819036</td>\n",
       "      <td>102634.219020</td>\n",
       "      <td>2.498810e+10</td>\n",
       "      <td>158076.241965</td>\n",
       "    </tr>\n",
       "    <tr>\n",
       "      <th>Poly Ridge Testing</th>\n",
       "      <td>0.785687</td>\n",
       "      <td>105094.159089</td>\n",
       "      <td>2.606187e+10</td>\n",
       "      <td>161436.882673</td>\n",
       "    </tr>\n",
       "    <tr>\n",
       "      <th>Poly Lasso Training</th>\n",
       "      <td>0.789734</td>\n",
       "      <td>109313.036601</td>\n",
       "      <td>2.903430e+10</td>\n",
       "      <td>170394.549324</td>\n",
       "    </tr>\n",
       "    <tr>\n",
       "      <th>Poly Lasso Testing</th>\n",
       "      <td>0.765307</td>\n",
       "      <td>109854.890809</td>\n",
       "      <td>2.854010e+10</td>\n",
       "      <td>168938.167422</td>\n",
       "    </tr>\n",
       "    <tr>\n",
       "      <th>Poly ElasticNet Training</th>\n",
       "      <td>0.788335</td>\n",
       "      <td>109702.608802</td>\n",
       "      <td>2.922741e+10</td>\n",
       "      <td>170960.269805</td>\n",
       "    </tr>\n",
       "    <tr>\n",
       "      <th>Poly ElasticNet Testing</th>\n",
       "      <td>0.764562</td>\n",
       "      <td>109907.100482</td>\n",
       "      <td>2.863070e+10</td>\n",
       "      <td>169206.099167</td>\n",
       "    </tr>\n",
       "  </tbody>\n",
       "</table>\n",
       "</div>"
      ],
      "text/plain": [
       "                                R2            MAE           MSE           RMSE\n",
       "Poly LinearReg Training   0.811651  104720.151737  2.600795e+10  161269.815392\n",
       "Poly LinearReg Testing    0.776251  107775.222835  2.720923e+10  164952.198705\n",
       "Poly Ridge Training       0.819036  102634.219020  2.498810e+10  158076.241965\n",
       "Poly Ridge Testing        0.785687  105094.159089  2.606187e+10  161436.882673\n",
       "Poly Lasso Training       0.789734  109313.036601  2.903430e+10  170394.549324\n",
       "Poly Lasso Testing        0.765307  109854.890809  2.854010e+10  168938.167422\n",
       "Poly ElasticNet Training  0.788335  109702.608802  2.922741e+10  170960.269805\n",
       "Poly ElasticNet Testing   0.764562  109907.100482  2.863070e+10  169206.099167"
      ]
     },
     "execution_count": 48,
     "metadata": {},
     "output_type": "execute_result"
    }
   ],
   "source": [
    "eva_matrix_Reg_PF = {\n",
    "    'Poly LinearReg Training' : [r2_train_PF, MAE_train_PF, MSE_train_PF, RMSE_train_PF],\n",
    "    'Poly LinearReg Testing' : [r2_test_PF, MAE_test_PF, MSE_test_PF, RMSE_test_PF],\n",
    "    'Poly Ridge Training' : [r2_R_tr_PF, MAE_R_tr_PF, MSE_R_tr_PF, RMSE_R_tr_PF],\n",
    "    'Poly Ridge Testing' : [r2_R_ts_PF, MAE_R_ts_PF, MSE_R_ts_PF, RMSE_R_ts_PF],\n",
    "    'Poly Lasso Training' : [r2_L_tr_PF, MAE_L_tr_PF, MSE_L_tr_PF, RMSE_L_tr_PF],\n",
    "    'Poly Lasso Testing' : [r2_L_ts_PF, MAE_L_ts_PF, MSE_L_ts_PF, RMSE_L_ts_PF],\n",
    "    'Poly ElasticNet Training' : [r2_E_tr_PF, MAE_E_tr_PF, MSE_E_tr_PF, RMSE_E_tr_PF],\n",
    "    'Poly ElasticNet Testing' : [r2_E_ts_PF, MAE_E_ts_PF, MSE_E_ts_PF, RMSE_E_ts_PF],\n",
    "}\n",
    "\n",
    "eva_matrix_Reg_PF = pd.DataFrame(eva_matrix_Reg_PF, index=['R2', 'MAE', 'MSE', 'RMSE']).T\n",
    "\n",
    "eva_matrix_Reg_PF"
   ]
  },
  {
   "cell_type": "markdown",
   "id": "f00beb92",
   "metadata": {},
   "source": [
    "Polynomial Ridge memiliki nilai R Squared tertinggi sebesar 0.78.\n",
    "Untuk meningkatkan nilai R Squared perlu melakukan tuning"
   ]
  },
  {
   "cell_type": "markdown",
   "id": "81f36905",
   "metadata": {},
   "source": [
    "# 8. Tuning"
   ]
  },
  {
   "cell_type": "markdown",
   "id": "96c48087",
   "metadata": {},
   "source": [
    "## Alpha"
   ]
  },
  {
   "cell_type": "code",
   "execution_count": 49,
   "id": "bd49e9d1",
   "metadata": {},
   "outputs": [],
   "source": [
    "def Manual_Tune(Alpha, X_train, X_test, y_train, y_test, Model):\n",
    "    train_r = []\n",
    "    test_r = []\n",
    "\n",
    "    for i in Alpha:\n",
    "        model_R = Model(alpha=i)\n",
    "        model_R.fit(X_train, y_train)\n",
    "        y_pred_tr = model_R.predict(X_train)\n",
    "        R2_train = r2_score(y_train,y_pred_tr)\n",
    "        train_r.append(R2_train)\n",
    "        y_pred_ts = model_R.predict(X_test)\n",
    "        R2_test = r2_score(y_test, y_pred_ts)\n",
    "        test_r.append(R2_test)\n",
    "\n",
    "    return train_r, test_r"
   ]
  },
  {
   "cell_type": "code",
   "execution_count": 50,
   "id": "e43c29d5",
   "metadata": {},
   "outputs": [],
   "source": [
    "Alpha = np.arange(0,5,0.01)"
   ]
  },
  {
   "cell_type": "markdown",
   "id": "c81d5b07",
   "metadata": {},
   "source": [
    "### Ridge"
   ]
  },
  {
   "cell_type": "code",
   "execution_count": 51,
   "id": "c505a259",
   "metadata": {},
   "outputs": [],
   "source": [
    "train_Ridge, test_Ridge = Manual_Tune(Alpha, df_XtrainPoly, df_XtestPoly, y_train, y_test, Ridge)"
   ]
  },
  {
   "cell_type": "code",
   "execution_count": 52,
   "id": "7c98b9e1",
   "metadata": {},
   "outputs": [
    {
     "data": {
      "text/plain": [
       "0.19"
      ]
     },
     "execution_count": 52,
     "metadata": {},
     "output_type": "execute_result"
    }
   ],
   "source": [
    "Alpha[np.argmax(test_Ridge)]\n",
    "# cari max test score -> 0.19"
   ]
  },
  {
   "cell_type": "code",
   "execution_count": 53,
   "id": "b0a2ee61",
   "metadata": {},
   "outputs": [],
   "source": [
    "Model_R_PF_tng = Ridge(alpha=0.19)"
   ]
  },
  {
   "cell_type": "code",
   "execution_count": 54,
   "id": "5d1b9c01",
   "metadata": {},
   "outputs": [
    {
     "data": {
      "text/plain": [
       "Ridge(alpha=0.19)"
      ]
     },
     "execution_count": 54,
     "metadata": {},
     "output_type": "execute_result"
    }
   ],
   "source": [
    "Model_R_PF_tng.fit(df_XtrainPoly, y_train)"
   ]
  },
  {
   "cell_type": "markdown",
   "id": "eed96bd9",
   "metadata": {},
   "source": [
    "### Lasso"
   ]
  },
  {
   "cell_type": "code",
   "execution_count": 55,
   "id": "00640ca6",
   "metadata": {},
   "outputs": [],
   "source": [
    "train_lasso, test_lasso = Manual_Tune(Alpha, df_XtrainPoly, df_XtestPoly, y_train, y_test, Lasso)"
   ]
  },
  {
   "cell_type": "code",
   "execution_count": 61,
   "id": "d0a85064",
   "metadata": {},
   "outputs": [
    {
     "data": {
      "text/plain": [
       "4.99"
      ]
     },
     "execution_count": 61,
     "metadata": {},
     "output_type": "execute_result"
    }
   ],
   "source": [
    "Alpha[np.argmax(test_lasso)]\n",
    "# max test score -> 4.99"
   ]
  },
  {
   "cell_type": "code",
   "execution_count": 72,
   "id": "1ff4a84b",
   "metadata": {},
   "outputs": [],
   "source": [
    "Model_L_PF_tng = Lasso(alpha=4.99)"
   ]
  },
  {
   "cell_type": "code",
   "execution_count": 73,
   "id": "3166e7b5",
   "metadata": {},
   "outputs": [
    {
     "data": {
      "text/plain": [
       "Lasso(alpha=4.99)"
      ]
     },
     "execution_count": 73,
     "metadata": {},
     "output_type": "execute_result"
    }
   ],
   "source": [
    "Model_L_PF_tng.fit(df_XtrainPoly, y_train)"
   ]
  },
  {
   "cell_type": "markdown",
   "id": "310dcc2d",
   "metadata": {},
   "source": [
    "### ElasticNet"
   ]
  },
  {
   "cell_type": "code",
   "execution_count": 64,
   "id": "531bded2",
   "metadata": {},
   "outputs": [],
   "source": [
    "train_Enet, test_Enet = Manual_Tune(Alpha, df_XtrainPoly, df_XtestPoly, y_train, y_test, ElasticNet) "
   ]
  },
  {
   "cell_type": "code",
   "execution_count": 65,
   "id": "97eb002d",
   "metadata": {},
   "outputs": [
    {
     "data": {
      "text/plain": [
       "0.02"
      ]
     },
     "execution_count": 65,
     "metadata": {},
     "output_type": "execute_result"
    }
   ],
   "source": [
    "Alpha[np.argmax(test_Enet)]\n",
    "# max test score -> 0.02"
   ]
  },
  {
   "cell_type": "code",
   "execution_count": 67,
   "id": "1ced4693",
   "metadata": {},
   "outputs": [],
   "source": [
    "Model_E_PF_tng = ElasticNet(alpha=0.02)"
   ]
  },
  {
   "cell_type": "code",
   "execution_count": 68,
   "id": "dc3b7afb",
   "metadata": {},
   "outputs": [
    {
     "data": {
      "text/plain": [
       "ElasticNet(alpha=0.02)"
      ]
     },
     "execution_count": 68,
     "metadata": {},
     "output_type": "execute_result"
    }
   ],
   "source": [
    "Model_E_PF_tng.fit(df_XtrainPoly, y_train)"
   ]
  },
  {
   "cell_type": "markdown",
   "id": "edce2772",
   "metadata": {},
   "source": [
    "## Evaluation Matrix Calculation Setelah Tuning"
   ]
  },
  {
   "cell_type": "markdown",
   "id": "9526c2ae",
   "metadata": {},
   "source": [
    "### Ridge"
   ]
  },
  {
   "cell_type": "markdown",
   "id": "d17aa596",
   "metadata": {},
   "source": [
    "Training"
   ]
  },
  {
   "cell_type": "code",
   "execution_count": 69,
   "id": "d7dd484b",
   "metadata": {},
   "outputs": [],
   "source": [
    "r2_R_tr_PF_tng, MAE_R_tr_PF_tng, MSE_R_tr_PF_tng, RMSE_R_tr_PF_tng = Eva_Matrix(Model_R_PF_tng, df_XtrainPoly, y_train)"
   ]
  },
  {
   "cell_type": "markdown",
   "id": "8d5fc0d8",
   "metadata": {},
   "source": [
    "Testing"
   ]
  },
  {
   "cell_type": "code",
   "execution_count": 70,
   "id": "f48b303a",
   "metadata": {},
   "outputs": [],
   "source": [
    "r2_R_ts_PF_tng, MAE_R_ts_PF_tng, MSE_R_ts_PF_tng, RMSE_R_ts_PF_tng = Eva_Matrix(Model_R_PF_tng, df_XtestPoly, y_test)"
   ]
  },
  {
   "cell_type": "markdown",
   "id": "0c6041f4",
   "metadata": {},
   "source": [
    "### Lasso"
   ]
  },
  {
   "cell_type": "markdown",
   "id": "3d5ab57b",
   "metadata": {},
   "source": [
    "Training"
   ]
  },
  {
   "cell_type": "code",
   "execution_count": 74,
   "id": "54160ded",
   "metadata": {},
   "outputs": [],
   "source": [
    "r2_L_tr_PF_tng, MAE_L_tr_PF_tng, MSE_L_tr_PF_tng, RMSE_L_tr_PF_tng = Eva_Matrix(Model_L_PF_tng, df_XtrainPoly, y_train)"
   ]
  },
  {
   "cell_type": "markdown",
   "id": "e075463e",
   "metadata": {},
   "source": [
    "Testing"
   ]
  },
  {
   "cell_type": "code",
   "execution_count": 75,
   "id": "40c9316c",
   "metadata": {},
   "outputs": [],
   "source": [
    "r2_L_ts_PF_tng, MAE_L_ts_PF_tng, MSE_L_ts_PF_tng, RMSE_L_ts_PF_tng = Eva_Matrix(Model_L_PF_tng, df_XtestPoly, y_test)"
   ]
  },
  {
   "cell_type": "markdown",
   "id": "dfd9d8f5",
   "metadata": {},
   "source": [
    "### ElasticNet"
   ]
  },
  {
   "cell_type": "markdown",
   "id": "cae3e6f4",
   "metadata": {},
   "source": [
    "Training"
   ]
  },
  {
   "cell_type": "code",
   "execution_count": 76,
   "id": "d806633b",
   "metadata": {},
   "outputs": [],
   "source": [
    "r2_E_tr_PF_tng, MAE_E_tr_PF_tng, MSE_E_tr_PF_tng, RMSE_E_tr_PF_tng = Eva_Matrix(Model_E_PF_tng, df_XtrainPoly, y_train)"
   ]
  },
  {
   "cell_type": "markdown",
   "id": "64cd5c90",
   "metadata": {},
   "source": [
    "Testing"
   ]
  },
  {
   "cell_type": "code",
   "execution_count": 77,
   "id": "5e0bde66",
   "metadata": {},
   "outputs": [],
   "source": [
    "r2_E_ts_PF_tng, MAE_E_ts_PF_tng, MSE_E_ts_PF_tng, RMSE_E_ts_PF_tng = Eva_Matrix(Model_E_PF_tng, df_XtestPoly, y_test)"
   ]
  },
  {
   "cell_type": "markdown",
   "id": "e78dd05f",
   "metadata": {},
   "source": [
    "# 9. Final Evaluation Matrix"
   ]
  },
  {
   "cell_type": "code",
   "execution_count": 78,
   "id": "8271c4a8",
   "metadata": {},
   "outputs": [],
   "source": [
    "eva_matrix_Reg_PF_final = {\n",
    "    'Poly LinearReg Training' : [r2_train_PF, MAE_train_PF, MSE_train_PF, RMSE_train_PF],\n",
    "    'Poly LinearReg Testing' : [r2_test_PF, MAE_test_PF, MSE_test_PF, RMSE_test_PF],\n",
    "    'Poly Ridge Tuned Training' : [r2_R_tr_PF_tng, MAE_R_tr_PF_tng, MSE_R_tr_PF_tng, RMSE_R_tr_PF_tng],\n",
    "    'Poly Ridge Tuned Testing' : [r2_R_ts_PF_tng, MAE_R_ts_PF_tng, MSE_R_ts_PF_tng, RMSE_R_ts_PF_tng],\n",
    "    'Poly Lasso Tuned Training' : [r2_L_tr_PF_tng, MAE_L_tr_PF_tng, MSE_L_tr_PF_tng, RMSE_L_tr_PF_tng],\n",
    "    'Poly Lasso Tuned Testing' : [r2_L_ts_PF_tng, MAE_L_ts_PF_tng, MSE_L_ts_PF_tng, RMSE_L_ts_PF_tng],\n",
    "    'Poly ElasticNet Tuned Training' : [r2_E_tr_PF_tng, MAE_E_tr_PF_tng, MSE_E_tr_PF_tng, RMSE_E_tr_PF_tng],\n",
    "    'Poly ElasticNet Tuned Testing' : [r2_E_ts_PF_tng, MAE_E_ts_PF_tng, MSE_E_ts_PF_tng, RMSE_E_ts_PF_tng],\n",
    "}\n",
    "\n",
    "eva_matrix_final = pd.DataFrame(eva_matrix_Reg_PF_final, index=['R2', 'MAE', 'MSE', 'RMSE']).T"
   ]
  },
  {
   "cell_type": "markdown",
   "id": "d7847bce",
   "metadata": {},
   "source": [
    "## Sebelum Tuning"
   ]
  },
  {
   "cell_type": "code",
   "execution_count": 79,
   "id": "e9e70b34",
   "metadata": {},
   "outputs": [
    {
     "data": {
      "text/html": [
       "<div>\n",
       "<style scoped>\n",
       "    .dataframe tbody tr th:only-of-type {\n",
       "        vertical-align: middle;\n",
       "    }\n",
       "\n",
       "    .dataframe tbody tr th {\n",
       "        vertical-align: top;\n",
       "    }\n",
       "\n",
       "    .dataframe thead th {\n",
       "        text-align: right;\n",
       "    }\n",
       "</style>\n",
       "<table border=\"1\" class=\"dataframe\">\n",
       "  <thead>\n",
       "    <tr style=\"text-align: right;\">\n",
       "      <th></th>\n",
       "      <th>R2</th>\n",
       "      <th>MAE</th>\n",
       "      <th>MSE</th>\n",
       "      <th>RMSE</th>\n",
       "    </tr>\n",
       "  </thead>\n",
       "  <tbody>\n",
       "    <tr>\n",
       "      <th>Poly LinearReg Training</th>\n",
       "      <td>0.811651</td>\n",
       "      <td>104720.151737</td>\n",
       "      <td>2.600795e+10</td>\n",
       "      <td>161269.815392</td>\n",
       "    </tr>\n",
       "    <tr>\n",
       "      <th>Poly LinearReg Testing</th>\n",
       "      <td>0.776251</td>\n",
       "      <td>107775.222835</td>\n",
       "      <td>2.720923e+10</td>\n",
       "      <td>164952.198705</td>\n",
       "    </tr>\n",
       "    <tr>\n",
       "      <th>Poly Ridge Training</th>\n",
       "      <td>0.819036</td>\n",
       "      <td>102634.219020</td>\n",
       "      <td>2.498810e+10</td>\n",
       "      <td>158076.241965</td>\n",
       "    </tr>\n",
       "    <tr>\n",
       "      <th>Poly Ridge Testing</th>\n",
       "      <td>0.785687</td>\n",
       "      <td>105094.159089</td>\n",
       "      <td>2.606187e+10</td>\n",
       "      <td>161436.882673</td>\n",
       "    </tr>\n",
       "    <tr>\n",
       "      <th>Poly Lasso Training</th>\n",
       "      <td>0.789734</td>\n",
       "      <td>109313.036601</td>\n",
       "      <td>2.903430e+10</td>\n",
       "      <td>170394.549324</td>\n",
       "    </tr>\n",
       "    <tr>\n",
       "      <th>Poly Lasso Testing</th>\n",
       "      <td>0.765307</td>\n",
       "      <td>109854.890809</td>\n",
       "      <td>2.854010e+10</td>\n",
       "      <td>168938.167422</td>\n",
       "    </tr>\n",
       "    <tr>\n",
       "      <th>Poly ElasticNet Training</th>\n",
       "      <td>0.788335</td>\n",
       "      <td>109702.608802</td>\n",
       "      <td>2.922741e+10</td>\n",
       "      <td>170960.269805</td>\n",
       "    </tr>\n",
       "    <tr>\n",
       "      <th>Poly ElasticNet Testing</th>\n",
       "      <td>0.764562</td>\n",
       "      <td>109907.100482</td>\n",
       "      <td>2.863070e+10</td>\n",
       "      <td>169206.099167</td>\n",
       "    </tr>\n",
       "  </tbody>\n",
       "</table>\n",
       "</div>"
      ],
      "text/plain": [
       "                                R2            MAE           MSE           RMSE\n",
       "Poly LinearReg Training   0.811651  104720.151737  2.600795e+10  161269.815392\n",
       "Poly LinearReg Testing    0.776251  107775.222835  2.720923e+10  164952.198705\n",
       "Poly Ridge Training       0.819036  102634.219020  2.498810e+10  158076.241965\n",
       "Poly Ridge Testing        0.785687  105094.159089  2.606187e+10  161436.882673\n",
       "Poly Lasso Training       0.789734  109313.036601  2.903430e+10  170394.549324\n",
       "Poly Lasso Testing        0.765307  109854.890809  2.854010e+10  168938.167422\n",
       "Poly ElasticNet Training  0.788335  109702.608802  2.922741e+10  170960.269805\n",
       "Poly ElasticNet Testing   0.764562  109907.100482  2.863070e+10  169206.099167"
      ]
     },
     "execution_count": 79,
     "metadata": {},
     "output_type": "execute_result"
    }
   ],
   "source": [
    "eva_matrix_Reg_PF"
   ]
  },
  {
   "cell_type": "markdown",
   "id": "ca90fd1e",
   "metadata": {},
   "source": [
    "Nilai R2 terbesar ketika melakukan Ridge, yaitu 0.785687 dan yg terkecil ElasticNet sebesar 0.764562"
   ]
  },
  {
   "cell_type": "markdown",
   "id": "d4e406e4",
   "metadata": {},
   "source": [
    "## Sesudah Tuning"
   ]
  },
  {
   "cell_type": "code",
   "execution_count": 80,
   "id": "19e41cc2",
   "metadata": {},
   "outputs": [
    {
     "data": {
      "text/html": [
       "<div>\n",
       "<style scoped>\n",
       "    .dataframe tbody tr th:only-of-type {\n",
       "        vertical-align: middle;\n",
       "    }\n",
       "\n",
       "    .dataframe tbody tr th {\n",
       "        vertical-align: top;\n",
       "    }\n",
       "\n",
       "    .dataframe thead th {\n",
       "        text-align: right;\n",
       "    }\n",
       "</style>\n",
       "<table border=\"1\" class=\"dataframe\">\n",
       "  <thead>\n",
       "    <tr style=\"text-align: right;\">\n",
       "      <th></th>\n",
       "      <th>R2</th>\n",
       "      <th>MAE</th>\n",
       "      <th>MSE</th>\n",
       "      <th>RMSE</th>\n",
       "    </tr>\n",
       "  </thead>\n",
       "  <tbody>\n",
       "    <tr>\n",
       "      <th>Poly LinearReg Training</th>\n",
       "      <td>0.811651</td>\n",
       "      <td>104720.151737</td>\n",
       "      <td>2.600795e+10</td>\n",
       "      <td>161269.815392</td>\n",
       "    </tr>\n",
       "    <tr>\n",
       "      <th>Poly LinearReg Testing</th>\n",
       "      <td>0.776251</td>\n",
       "      <td>107775.222835</td>\n",
       "      <td>2.720923e+10</td>\n",
       "      <td>164952.198705</td>\n",
       "    </tr>\n",
       "    <tr>\n",
       "      <th>Poly Ridge Tuned Training</th>\n",
       "      <td>0.821450</td>\n",
       "      <td>101380.545983</td>\n",
       "      <td>2.465479e+10</td>\n",
       "      <td>157018.452783</td>\n",
       "    </tr>\n",
       "    <tr>\n",
       "      <th>Poly Ridge Tuned Testing</th>\n",
       "      <td>0.789307</td>\n",
       "      <td>103995.593444</td>\n",
       "      <td>2.562162e+10</td>\n",
       "      <td>160067.561119</td>\n",
       "    </tr>\n",
       "    <tr>\n",
       "      <th>Poly Lasso Tuned Training</th>\n",
       "      <td>0.789734</td>\n",
       "      <td>109313.442548</td>\n",
       "      <td>2.903423e+10</td>\n",
       "      <td>170394.343021</td>\n",
       "    </tr>\n",
       "    <tr>\n",
       "      <th>Poly Lasso Tuned Testing</th>\n",
       "      <td>0.765347</td>\n",
       "      <td>109837.900409</td>\n",
       "      <td>2.853528e+10</td>\n",
       "      <td>168923.889827</td>\n",
       "    </tr>\n",
       "    <tr>\n",
       "      <th>Poly ElasticNet Tuned Training</th>\n",
       "      <td>0.789406</td>\n",
       "      <td>109386.003479</td>\n",
       "      <td>2.907955e+10</td>\n",
       "      <td>170527.267743</td>\n",
       "    </tr>\n",
       "    <tr>\n",
       "      <th>Poly ElasticNet Tuned Testing</th>\n",
       "      <td>0.765662</td>\n",
       "      <td>109795.887290</td>\n",
       "      <td>2.849696e+10</td>\n",
       "      <td>168810.440149</td>\n",
       "    </tr>\n",
       "  </tbody>\n",
       "</table>\n",
       "</div>"
      ],
      "text/plain": [
       "                                      R2            MAE           MSE  \\\n",
       "Poly LinearReg Training         0.811651  104720.151737  2.600795e+10   \n",
       "Poly LinearReg Testing          0.776251  107775.222835  2.720923e+10   \n",
       "Poly Ridge Tuned Training       0.821450  101380.545983  2.465479e+10   \n",
       "Poly Ridge Tuned Testing        0.789307  103995.593444  2.562162e+10   \n",
       "Poly Lasso Tuned Training       0.789734  109313.442548  2.903423e+10   \n",
       "Poly Lasso Tuned Testing        0.765347  109837.900409  2.853528e+10   \n",
       "Poly ElasticNet Tuned Training  0.789406  109386.003479  2.907955e+10   \n",
       "Poly ElasticNet Tuned Testing   0.765662  109795.887290  2.849696e+10   \n",
       "\n",
       "                                         RMSE  \n",
       "Poly LinearReg Training         161269.815392  \n",
       "Poly LinearReg Testing          164952.198705  \n",
       "Poly Ridge Tuned Training       157018.452783  \n",
       "Poly Ridge Tuned Testing        160067.561119  \n",
       "Poly Lasso Tuned Training       170394.343021  \n",
       "Poly Lasso Tuned Testing        168923.889827  \n",
       "Poly ElasticNet Tuned Training  170527.267743  \n",
       "Poly ElasticNet Tuned Testing   168810.440149  "
      ]
     },
     "execution_count": 80,
     "metadata": {},
     "output_type": "execute_result"
    }
   ],
   "source": [
    "eva_matrix_final"
   ]
  },
  {
   "cell_type": "markdown",
   "id": "490c0272",
   "metadata": {},
   "source": [
    "- Linear regression -> Tidak mengalami kenaikan\n",
    "- Ridge --> sebelumnya 0.785687 setelah dituning 0.789307, mengalami kenaikan 0.00362\n",
    "- Lasso --> sebelumnya 0.765307 setelah dituning 0.765347, mengalami kenaikan 0.00004\n",
    "- ElasticNet --> sebelumnya 0.764562 setelah dituning 0.765662, mengalami kenaikan 0.892058"
   ]
  },
  {
   "cell_type": "markdown",
   "id": "93e6ac5f",
   "metadata": {},
   "source": [
    "# 10. Kesimpulan"
   ]
  },
  {
   "cell_type": "markdown",
   "id": "54a56e02",
   "metadata": {},
   "source": [
    "Model yang tepat untuk perusahaan gunakan adalah Ridge Testing Tuning, model ini memiliki skore 78% keakuratannya."
   ]
  },
  {
   "cell_type": "code",
   "execution_count": null,
   "id": "5ddf1899",
   "metadata": {},
   "outputs": [],
   "source": []
  },
  {
   "cell_type": "code",
   "execution_count": null,
   "id": "86838e9a",
   "metadata": {},
   "outputs": [],
   "source": []
  },
  {
   "cell_type": "code",
   "execution_count": null,
   "id": "c53d55bf",
   "metadata": {},
   "outputs": [],
   "source": []
  }
 ],
 "metadata": {
  "kernelspec": {
   "display_name": "Python 3 (ipykernel)",
   "language": "python",
   "name": "python3"
  },
  "language_info": {
   "codemirror_mode": {
    "name": "ipython",
    "version": 3
   },
   "file_extension": ".py",
   "mimetype": "text/x-python",
   "name": "python",
   "nbconvert_exporter": "python",
   "pygments_lexer": "ipython3",
   "version": "3.9.7"
  }
 },
 "nbformat": 4,
 "nbformat_minor": 5
}
